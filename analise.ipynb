{
 "cells": [
  {
   "cell_type": "markdown",
   "metadata": {
    "ipub": {
     "titlepage": {
      "author": "Ivo Júnior"
     }
    }
   },
   "source": [
    "# Análise de visitas - Hospitais"
   ]
  },
  {
   "cell_type": "markdown",
   "metadata": {},
   "source": [
    "Autor: Ivo Silva de Souza Júnior <br/>\n",
    "Linkedin: https://www.linkedin.com/in/ivossjunior/ <br/>\n",
    "Github: https://github.com/ivossjunior <br/>\n",
    "E-mail: ivossjunior@gmail.com "
   ]
  },
  {
   "cell_type": "markdown",
   "metadata": {},
   "source": [
    "# Sumário\n",
    "- <a href=\"#agradecimentos\">Agradecimentos</a>\n",
    "- <a href=\"#objetivo\">Objetivo</a>\n",
    "- <a href=\"#cenario\">Cenário</a>\n",
    "- <a href=\"#bibliotecas\">Bibliotecas</a>\n",
    "- <a href=\"#importacao\">Importação dos dados</a>\n",
    "- <a href=\"#estrutura\">Estrutura dos dados</a>\n",
    "    - <a href=\"#visitas\">Visitas</a>\n",
    "    - <a href=\"#censo\">Censo</a>\n",
    "- <a href=\"#tratamento\">Tratamento dos dados</a>\n",
    "- <a href=\"#analise\">Análise exploratória</a>\n",
    "    - <a href=\"#distribuicao\">Distribuição dos dados</a>\n",
    "- <a href=\"#ml\">Machine Learning</a>\n",
    "    - <a href=\"#normalizacao\">Normalização dos dados</a>\n",
    "    - <a href=\"#modelos\">Modelos</a>\n",
    "    - <a href=\"#funcoes_auxiliares\">Funções auxiliares</a>\n",
    "    - <a href=\"#ml_norm\">Aplicando Machine Learning nos dados normalizados</a>\n",
    "    - <a href=\"#escalando\">Escalando os dados</a>\n",
    "    - <a href=\"#ml_scaled\">Aplicando Machine Learning nos dados escalados</a>\n",
    "    - <a href=\"#ver_resultados\">Visualizando o resultado dos algoritmos</a>\n",
    "    - <a href=\"#func_plot\">Preparando as funções de plotagem dos resultados</a>\n",
    "    - <a href=\"#plot_scores\">Plotando os scores dos modelos</a>\n",
    "    - <a href=\"#resultado\">Resultado dos modelos</a>\n",
    "- <a href=\"#conclusao\">Conclusão</a>\n",
    "- <a href=\"#dashboard\">Dashboard</a>\n"
   ]
  },
  {
   "cell_type": "markdown",
   "metadata": {},
   "source": [
    "# Agradecimentos <a class=\"anchor\" id=\"agradecimentos\" />"
   ]
  },
  {
   "cell_type": "markdown",
   "metadata": {},
   "source": [
    "Gostaria de agradecer imensamente ao Felipe Santana, do Minerando Dados e Leonardo Nascimento, um amigo que trabalha comigo, graças a vocês eu consegui finalizar este projeto. \n",
    "Também gostaria de agradecer à minha família, namorada Tamires e aos meus amigos que estão sempre me incentivando a melhorar sempre e não me deixam desanimar!\n",
    "Obrigado!\n",
    "\n",
    "<a href=\"https://www.linkedin.com/in/lsn0/\">Linkedin do Leonardo Nascimento</a><br/>\n",
    "<a href=\"https://www.linkedin.com/in/felipe-santana-b5515a22/\">Linkedin do Felipe Santana</a>"
   ]
  },
  {
   "cell_type": "markdown",
   "metadata": {},
   "source": [
    "# Objetivo <a class=\"anchor\" id=\"objetivo\" />\n",
    "\n",
    "Identificar a relação entre quantidade de pacientes internados e a quantidade de visitantes para posteriomente criar um modelo que possa prever a quantidade de visitantes."
   ]
  },
  {
   "cell_type": "markdown",
   "metadata": {},
   "source": [
    "# Cenário <a class=\"anchor\" id=\"cenario\" />"
   ]
  },
  {
   "cell_type": "markdown",
   "metadata": {},
   "source": [
    "A necessidade de controlar o acesso de visitantes, acompanhantes, pacientes, prestadores de serviços e fornecedores nos hospitais é real e de suma importância para a segurança dos pacientes e dos colaboradores da instituição, sabendo disso, me foi solicitado a criação de um sistema de controle de visitas que fosse integrado ao ERP da empresa com o objetivo de identificar todos os visitantes através de etiqueta que é colada em um local vísivel na roupa do visitante."
   ]
  },
  {
   "cell_type": "markdown",
   "metadata": {},
   "source": [
    "# Bibliotecas <a class=\"anchor\" id=\"bibliotecas\" />"
   ]
  },
  {
   "cell_type": "markdown",
   "metadata": {},
   "source": [
    "Import de todas as bibliotecas que foram necessárias para a realização deste projeto"
   ]
  },
  {
   "cell_type": "code",
   "execution_count": 2,
   "metadata": {},
   "outputs": [],
   "source": [
    "import pandas as pd\n",
    "import matplotlib.pyplot as plt\n",
    "%matplotlib inline\n",
    "import datetime as dt\n",
    "import seaborn as sns\n",
    "from sklearn.linear_model import LinearRegression, Ridge\n",
    "from sklearn.model_selection import train_test_split\n",
    "from sklearn.metrics import mean_squared_error, r2_score\n",
    "from sklearn.preprocessing import Normalizer, MinMaxScaler\n",
    "from sklearn.tree import DecisionTreeRegressor\n",
    "from sklearn.ensemble import RandomForestRegressor\n",
    "from sklearn.model_selection import GridSearchCV\n",
    "from sklearn.ensemble import GradientBoostingRegressor\n",
    "import warnings\n",
    "import numpy as np"
   ]
  },
  {
   "cell_type": "code",
   "execution_count": 3,
   "metadata": {},
   "outputs": [],
   "source": [
    "warnings.filterwarnings(\"ignore\")"
   ]
  },
  {
   "cell_type": "markdown",
   "metadata": {},
   "source": [
    "# Importando os dados <a class=\"anchor\" id=\"importacao\" />"
   ]
  },
  {
   "cell_type": "markdown",
   "metadata": {},
   "source": [
    "Conforme descrito no Cenário, os dados são oriundos de dois sistemas, do ERP da empresa e do programa que desenvolvi para o controle de visitas, após a extração dos dados em formato csv, iremos importá-los abaixo:"
   ]
  },
  {
   "cell_type": "code",
   "execution_count": 4,
   "metadata": {},
   "outputs": [],
   "source": [
    "df_visitas = pd.read_csv('visitas.csv', sep = ';')\n",
    "df_censo = pd.read_csv('censo.csv', sep = ';')"
   ]
  },
  {
   "cell_type": "markdown",
   "metadata": {},
   "source": [
    "# Visualizando a estrutura dos dados <a class=\"anchor\" id=\"estrutura\" />"
   ]
  },
  {
   "cell_type": "markdown",
   "metadata": {},
   "source": [
    "## Dataset de visitas <a class=\"anchor\" id=\"visitas\" />\n",
    "Dicionário de dados:\n",
    "<table>\n",
    "    <thead>\n",
    "        <th>Coluna</th>\n",
    "        <th>Descrição</th>\n",
    "    </thead>\n",
    "    <tbody>\n",
    "        <tr>\n",
    "            <td>Id</td>\n",
    "            <td>Campo identificador do registro da visita</td>\n",
    "        </tr>\n",
    "        <tr>\n",
    "            <td>DataHoraEntrada</td>\n",
    "            <td>Data e hora da liberação da visita</td>\n",
    "        </tr>\n",
    "        <tr>\n",
    "            <td>IdVisitante</td>\n",
    "            <td>Campo identificador do visitante</td>\n",
    "        </tr>\n",
    "        <tr>\n",
    "            <td>IdCensoItem</td>\n",
    "            <td>Campo identificador da diária de internação do paciente, podendo ser nulo em caso de visitante diferente dos tipos (Acompanhante, Visitante)</td>\n",
    "        </tr>\n",
    "        <tr>\n",
    "            <td>IdOperadorLiberacao</td>\n",
    "            <td>Campo identificador do operador que liberou a visita</td>\n",
    "        </tr>\n",
    "        <tr>\n",
    "            <td>DataHoraSaida</td>\n",
    "            <td>Data e hora da baixa da visita</td>\n",
    "        </tr>\n",
    "        <tr>\n",
    "            <td>TipoVisita</td>\n",
    "            <td>Campo que identifica o tipo de visita</td>\n",
    "        </tr>\n",
    "        <tr>\n",
    "            <td>Local</td>\n",
    "            <td>Campo identificador do hospital onde a visita foi realizada</td>\n",
    "        </tr>\n",
    "    </tbody>\n",
    "</table>"
   ]
  },
  {
   "cell_type": "code",
   "execution_count": 4,
   "metadata": {},
   "outputs": [
    {
     "data": {
      "text/html": [
       "<div>\n",
       "<style scoped>\n",
       "    .dataframe tbody tr th:only-of-type {\n",
       "        vertical-align: middle;\n",
       "    }\n",
       "\n",
       "    .dataframe tbody tr th {\n",
       "        vertical-align: top;\n",
       "    }\n",
       "\n",
       "    .dataframe thead th {\n",
       "        text-align: right;\n",
       "    }\n",
       "</style>\n",
       "<table border=\"1\" class=\"dataframe\">\n",
       "  <thead>\n",
       "    <tr style=\"text-align: right;\">\n",
       "      <th></th>\n",
       "      <th>Id</th>\n",
       "      <th>DataHoraEntrada</th>\n",
       "      <th>IdVisitante</th>\n",
       "      <th>IdCensoItem</th>\n",
       "      <th>IdOperadorLiberacao</th>\n",
       "      <th>DataHoraSaida</th>\n",
       "      <th>TipoVisita</th>\n",
       "      <th>Local</th>\n",
       "    </tr>\n",
       "  </thead>\n",
       "  <tbody>\n",
       "    <tr>\n",
       "      <th>0</th>\n",
       "      <td>54</td>\n",
       "      <td>2019-05-23 17:12:08.817</td>\n",
       "      <td>1</td>\n",
       "      <td>471596</td>\n",
       "      <td>2228</td>\n",
       "      <td>2019-05-24 09:08:04.413</td>\n",
       "      <td>Acompanhante</td>\n",
       "      <td>SC</td>\n",
       "    </tr>\n",
       "    <tr>\n",
       "      <th>1</th>\n",
       "      <td>55</td>\n",
       "      <td>2019-05-24 09:23:07.353</td>\n",
       "      <td>1</td>\n",
       "      <td>471727</td>\n",
       "      <td>2228</td>\n",
       "      <td>2019-05-24 09:23:23.460</td>\n",
       "      <td>Acompanhante</td>\n",
       "      <td>SC</td>\n",
       "    </tr>\n",
       "    <tr>\n",
       "      <th>2</th>\n",
       "      <td>56</td>\n",
       "      <td>2019-05-24 11:00:16.493</td>\n",
       "      <td>1</td>\n",
       "      <td>471749</td>\n",
       "      <td>2228</td>\n",
       "      <td>2019-05-27 08:45:16.530</td>\n",
       "      <td>Visitante</td>\n",
       "      <td>SC</td>\n",
       "    </tr>\n",
       "    <tr>\n",
       "      <th>3</th>\n",
       "      <td>57</td>\n",
       "      <td>2019-05-24 13:09:19.513</td>\n",
       "      <td>10</td>\n",
       "      <td>471727</td>\n",
       "      <td>1609</td>\n",
       "      <td>2019-05-27 16:22:09.927</td>\n",
       "      <td>Visitante</td>\n",
       "      <td>SC</td>\n",
       "    </tr>\n",
       "    <tr>\n",
       "      <th>4</th>\n",
       "      <td>58</td>\n",
       "      <td>2019-05-24 13:46:00.393</td>\n",
       "      <td>11</td>\n",
       "      <td>471727</td>\n",
       "      <td>2228</td>\n",
       "      <td>2019-05-24 13:48:05.743</td>\n",
       "      <td>Acompanhante</td>\n",
       "      <td>SC</td>\n",
       "    </tr>\n",
       "  </tbody>\n",
       "</table>\n",
       "</div>"
      ],
      "text/plain": [
       "   Id          DataHoraEntrada  IdVisitante  IdCensoItem  IdOperadorLiberacao  \\\n",
       "0  54  2019-05-23 17:12:08.817            1       471596                 2228   \n",
       "1  55  2019-05-24 09:23:07.353            1       471727                 2228   \n",
       "2  56  2019-05-24 11:00:16.493            1       471749                 2228   \n",
       "3  57  2019-05-24 13:09:19.513           10       471727                 1609   \n",
       "4  58  2019-05-24 13:46:00.393           11       471727                 2228   \n",
       "\n",
       "             DataHoraSaida    TipoVisita Local  \n",
       "0  2019-05-24 09:08:04.413  Acompanhante    SC  \n",
       "1  2019-05-24 09:23:23.460  Acompanhante    SC  \n",
       "2  2019-05-27 08:45:16.530     Visitante    SC  \n",
       "3  2019-05-27 16:22:09.927     Visitante    SC  \n",
       "4  2019-05-24 13:48:05.743  Acompanhante    SC  "
      ]
     },
     "execution_count": 4,
     "metadata": {},
     "output_type": "execute_result"
    }
   ],
   "source": [
    "df_visitas.head()"
   ]
  },
  {
   "cell_type": "markdown",
   "metadata": {},
   "source": [
    "## Dataset censo <a class=\"anchor\" id=\"censo\" />\n",
    "Dicionário de dados:\n",
    "<table>\n",
    "    <thead>\n",
    "        <th>Coluna</th>\n",
    "        <th>Descrição</th>\n",
    "    </thead>\n",
    "    <tbody>\n",
    "        <tr>\n",
    "            <td>IdCensoItem</td>\n",
    "            <td>Campo identificador da diária de internação do paciente</td>\n",
    "        </tr>\n",
    "        <tr>\n",
    "            <td>IdClienteConvenio</td>\n",
    "            <td>Campo identificador do convênio do paciente</td>\n",
    "        </tr>\n",
    "        <tr>\n",
    "            <td>DataDiaria</td>\n",
    "            <td>Data da diaria de internação </td>\n",
    "        </tr>\n",
    "        <tr>\n",
    "            <td>Alta</td>\n",
    "            <td>Campo que informa se o paciente recebeu alta administrativa nesta diária</td>\n",
    "        </tr>\n",
    "        <tr>\n",
    "            <td>CID</td>\n",
    "            <td>Campo que recebe a classificação internacional de doenças</td>\n",
    "        </tr>\n",
    "    </tbody>\n",
    "</table>"
   ]
  },
  {
   "cell_type": "code",
   "execution_count": 5,
   "metadata": {},
   "outputs": [
    {
     "data": {
      "text/html": [
       "<div>\n",
       "<style scoped>\n",
       "    .dataframe tbody tr th:only-of-type {\n",
       "        vertical-align: middle;\n",
       "    }\n",
       "\n",
       "    .dataframe tbody tr th {\n",
       "        vertical-align: top;\n",
       "    }\n",
       "\n",
       "    .dataframe thead th {\n",
       "        text-align: right;\n",
       "    }\n",
       "</style>\n",
       "<table border=\"1\" class=\"dataframe\">\n",
       "  <thead>\n",
       "    <tr style=\"text-align: right;\">\n",
       "      <th></th>\n",
       "      <th>IdCensoItem</th>\n",
       "      <th>IdClienteConvenio</th>\n",
       "      <th>DataDiaria</th>\n",
       "      <th>Alta</th>\n",
       "      <th>CID</th>\n",
       "    </tr>\n",
       "  </thead>\n",
       "  <tbody>\n",
       "    <tr>\n",
       "      <th>0</th>\n",
       "      <td>473551</td>\n",
       "      <td>749115</td>\n",
       "      <td>2019-06-03 00:00:00.000</td>\n",
       "      <td>N</td>\n",
       "      <td>NaN</td>\n",
       "    </tr>\n",
       "    <tr>\n",
       "      <th>1</th>\n",
       "      <td>473552</td>\n",
       "      <td>1361043</td>\n",
       "      <td>2019-06-03 00:00:00.000</td>\n",
       "      <td>S</td>\n",
       "      <td>NaN</td>\n",
       "    </tr>\n",
       "    <tr>\n",
       "      <th>2</th>\n",
       "      <td>473553</td>\n",
       "      <td>1361104</td>\n",
       "      <td>2019-06-03 00:00:00.000</td>\n",
       "      <td>N</td>\n",
       "      <td>NaN</td>\n",
       "    </tr>\n",
       "    <tr>\n",
       "      <th>3</th>\n",
       "      <td>473554</td>\n",
       "      <td>1349530</td>\n",
       "      <td>2019-06-03 00:00:00.000</td>\n",
       "      <td>N</td>\n",
       "      <td>NaN</td>\n",
       "    </tr>\n",
       "    <tr>\n",
       "      <th>4</th>\n",
       "      <td>473555</td>\n",
       "      <td>1361112</td>\n",
       "      <td>2019-06-03 00:00:00.000</td>\n",
       "      <td>N</td>\n",
       "      <td>NaN</td>\n",
       "    </tr>\n",
       "  </tbody>\n",
       "</table>\n",
       "</div>"
      ],
      "text/plain": [
       "   IdCensoItem  IdClienteConvenio               DataDiaria Alta  CID\n",
       "0       473551             749115  2019-06-03 00:00:00.000    N  NaN\n",
       "1       473552            1361043  2019-06-03 00:00:00.000    S  NaN\n",
       "2       473553            1361104  2019-06-03 00:00:00.000    N  NaN\n",
       "3       473554            1349530  2019-06-03 00:00:00.000    N  NaN\n",
       "4       473555            1361112  2019-06-03 00:00:00.000    N  NaN"
      ]
     },
     "execution_count": 5,
     "metadata": {},
     "output_type": "execute_result"
    }
   ],
   "source": [
    "df_censo.head()"
   ]
  },
  {
   "cell_type": "markdown",
   "metadata": {},
   "source": [
    "Identificando os tipos de dados dos dataframes"
   ]
  },
  {
   "cell_type": "code",
   "execution_count": 6,
   "metadata": {},
   "outputs": [
    {
     "data": {
      "text/plain": [
       "Id                      int64\n",
       "DataHoraEntrada        object\n",
       "IdVisitante             int64\n",
       "IdCensoItem             int64\n",
       "IdOperadorLiberacao     int64\n",
       "DataHoraSaida          object\n",
       "TipoVisita             object\n",
       "Local                  object\n",
       "dtype: object"
      ]
     },
     "execution_count": 6,
     "metadata": {},
     "output_type": "execute_result"
    }
   ],
   "source": [
    "df_visitas.dtypes"
   ]
  },
  {
   "cell_type": "code",
   "execution_count": 7,
   "metadata": {},
   "outputs": [
    {
     "data": {
      "text/plain": [
       "IdCensoItem            int64\n",
       "IdClienteConvenio      int64\n",
       "DataDiaria            object\n",
       "Alta                  object\n",
       "CID                  float64\n",
       "dtype: object"
      ]
     },
     "execution_count": 7,
     "metadata": {},
     "output_type": "execute_result"
    }
   ],
   "source": [
    "df_censo.dtypes"
   ]
  },
  {
   "cell_type": "markdown",
   "metadata": {},
   "source": [
    "# Tratamento dos dados <a class=\"anchor\" id=\"tratamento\" />"
   ]
  },
  {
   "cell_type": "code",
   "execution_count": 5,
   "metadata": {},
   "outputs": [],
   "source": [
    "def convert_to_date(value):\n",
    "    return dt.datetime.strptime(value, '%Y-%m-%d %H:%M:%S.%f')"
   ]
  },
  {
   "cell_type": "code",
   "execution_count": 6,
   "metadata": {},
   "outputs": [],
   "source": [
    "df_visitas['DataHoraEntradaConvertida'] = list(map(convert_to_date, df_visitas['DataHoraEntrada']))"
   ]
  },
  {
   "cell_type": "markdown",
   "metadata": {},
   "source": [
    "Iremos criar uma nova coluna do nosso dataset para identificar se o dia da visita é sábado ou domingo."
   ]
  },
  {
   "cell_type": "code",
   "execution_count": 7,
   "metadata": {},
   "outputs": [],
   "source": [
    "def is_weekend(value):    \n",
    "    if value.weekday() < 5:\n",
    "        return 0\n",
    "    else:\n",
    "        return 1"
   ]
  },
  {
   "cell_type": "code",
   "execution_count": 8,
   "metadata": {},
   "outputs": [],
   "source": [
    "df_visitas['FimDeSemana'] = list(map(is_weekend, df_visitas['DataHoraEntradaConvertida']))"
   ]
  },
  {
   "cell_type": "markdown",
   "metadata": {},
   "source": [
    "Função responsável pela transformação da data em um número inteiro que a simbolize. Usaremos esta função para criar um Id com base na data para realizar o join entre os dois datasets"
   ]
  },
  {
   "cell_type": "code",
   "execution_count": 9,
   "metadata": {},
   "outputs": [],
   "source": [
    "def date_to_int(value):\n",
    "    return int(value.replace('-', '')[0:8])\n",
    "    "
   ]
  },
  {
   "cell_type": "code",
   "execution_count": 10,
   "metadata": {},
   "outputs": [],
   "source": [
    "df_visitas['IdData'] = list(map(date_to_int, df_visitas['DataHoraEntrada']))"
   ]
  },
  {
   "cell_type": "code",
   "execution_count": 11,
   "metadata": {},
   "outputs": [
    {
     "data": {
      "text/plain": [
       "0    20190523\n",
       "1    20190524\n",
       "2    20190524\n",
       "3    20190524\n",
       "4    20190524\n",
       "Name: IdData, dtype: int64"
      ]
     },
     "execution_count": 11,
     "metadata": {},
     "output_type": "execute_result"
    }
   ],
   "source": [
    "df_visitas['IdData'].head()"
   ]
  },
  {
   "cell_type": "markdown",
   "metadata": {},
   "source": [
    "Faremos o mesmo tratamento com a data da diária do paciente no dataset censo"
   ]
  },
  {
   "cell_type": "code",
   "execution_count": 12,
   "metadata": {},
   "outputs": [],
   "source": [
    "df_censo['IdData'] = list(map(date_to_int, df_censo['DataDiaria']))"
   ]
  },
  {
   "cell_type": "code",
   "execution_count": 16,
   "metadata": {},
   "outputs": [
    {
     "data": {
      "text/html": [
       "<div>\n",
       "<style scoped>\n",
       "    .dataframe tbody tr th:only-of-type {\n",
       "        vertical-align: middle;\n",
       "    }\n",
       "\n",
       "    .dataframe tbody tr th {\n",
       "        vertical-align: top;\n",
       "    }\n",
       "\n",
       "    .dataframe thead th {\n",
       "        text-align: right;\n",
       "    }\n",
       "</style>\n",
       "<table border=\"1\" class=\"dataframe\">\n",
       "  <thead>\n",
       "    <tr style=\"text-align: right;\">\n",
       "      <th></th>\n",
       "      <th>IdCensoItem</th>\n",
       "      <th>IdClienteConvenio</th>\n",
       "      <th>DataDiaria</th>\n",
       "      <th>Alta</th>\n",
       "      <th>CID</th>\n",
       "      <th>IdData</th>\n",
       "    </tr>\n",
       "  </thead>\n",
       "  <tbody>\n",
       "    <tr>\n",
       "      <th>0</th>\n",
       "      <td>473551</td>\n",
       "      <td>749115</td>\n",
       "      <td>2019-06-03 00:00:00.000</td>\n",
       "      <td>N</td>\n",
       "      <td>NaN</td>\n",
       "      <td>20190603</td>\n",
       "    </tr>\n",
       "    <tr>\n",
       "      <th>1</th>\n",
       "      <td>473552</td>\n",
       "      <td>1361043</td>\n",
       "      <td>2019-06-03 00:00:00.000</td>\n",
       "      <td>S</td>\n",
       "      <td>NaN</td>\n",
       "      <td>20190603</td>\n",
       "    </tr>\n",
       "    <tr>\n",
       "      <th>2</th>\n",
       "      <td>473553</td>\n",
       "      <td>1361104</td>\n",
       "      <td>2019-06-03 00:00:00.000</td>\n",
       "      <td>N</td>\n",
       "      <td>NaN</td>\n",
       "      <td>20190603</td>\n",
       "    </tr>\n",
       "    <tr>\n",
       "      <th>3</th>\n",
       "      <td>473554</td>\n",
       "      <td>1349530</td>\n",
       "      <td>2019-06-03 00:00:00.000</td>\n",
       "      <td>N</td>\n",
       "      <td>NaN</td>\n",
       "      <td>20190603</td>\n",
       "    </tr>\n",
       "    <tr>\n",
       "      <th>4</th>\n",
       "      <td>473555</td>\n",
       "      <td>1361112</td>\n",
       "      <td>2019-06-03 00:00:00.000</td>\n",
       "      <td>N</td>\n",
       "      <td>NaN</td>\n",
       "      <td>20190603</td>\n",
       "    </tr>\n",
       "  </tbody>\n",
       "</table>\n",
       "</div>"
      ],
      "text/plain": [
       "   IdCensoItem  IdClienteConvenio               DataDiaria Alta  CID    IdData\n",
       "0       473551             749115  2019-06-03 00:00:00.000    N  NaN  20190603\n",
       "1       473552            1361043  2019-06-03 00:00:00.000    S  NaN  20190603\n",
       "2       473553            1361104  2019-06-03 00:00:00.000    N  NaN  20190603\n",
       "3       473554            1349530  2019-06-03 00:00:00.000    N  NaN  20190603\n",
       "4       473555            1361112  2019-06-03 00:00:00.000    N  NaN  20190603"
      ]
     },
     "execution_count": 16,
     "metadata": {},
     "output_type": "execute_result"
    }
   ],
   "source": [
    "df_censo.head()"
   ]
  },
  {
   "cell_type": "code",
   "execution_count": 17,
   "metadata": {
    "scrolled": true
   },
   "outputs": [
    {
     "data": {
      "text/html": [
       "<div>\n",
       "<style scoped>\n",
       "    .dataframe tbody tr th:only-of-type {\n",
       "        vertical-align: middle;\n",
       "    }\n",
       "\n",
       "    .dataframe tbody tr th {\n",
       "        vertical-align: top;\n",
       "    }\n",
       "\n",
       "    .dataframe thead th {\n",
       "        text-align: right;\n",
       "    }\n",
       "</style>\n",
       "<table border=\"1\" class=\"dataframe\">\n",
       "  <thead>\n",
       "    <tr style=\"text-align: right;\">\n",
       "      <th></th>\n",
       "      <th>Id</th>\n",
       "      <th>DataHoraEntrada</th>\n",
       "      <th>IdVisitante</th>\n",
       "      <th>IdCensoItem</th>\n",
       "      <th>IdOperadorLiberacao</th>\n",
       "      <th>DataHoraSaida</th>\n",
       "      <th>TipoVisita</th>\n",
       "      <th>Local</th>\n",
       "      <th>DataHoraEntradaConvertida</th>\n",
       "      <th>FimDeSemana</th>\n",
       "      <th>IdData</th>\n",
       "    </tr>\n",
       "  </thead>\n",
       "  <tbody>\n",
       "    <tr>\n",
       "      <th>0</th>\n",
       "      <td>54</td>\n",
       "      <td>2019-05-23 17:12:08.817</td>\n",
       "      <td>1</td>\n",
       "      <td>471596</td>\n",
       "      <td>2228</td>\n",
       "      <td>2019-05-24 09:08:04.413</td>\n",
       "      <td>Acompanhante</td>\n",
       "      <td>SC</td>\n",
       "      <td>2019-05-23 17:12:08.817</td>\n",
       "      <td>0</td>\n",
       "      <td>20190523</td>\n",
       "    </tr>\n",
       "    <tr>\n",
       "      <th>1</th>\n",
       "      <td>55</td>\n",
       "      <td>2019-05-24 09:23:07.353</td>\n",
       "      <td>1</td>\n",
       "      <td>471727</td>\n",
       "      <td>2228</td>\n",
       "      <td>2019-05-24 09:23:23.460</td>\n",
       "      <td>Acompanhante</td>\n",
       "      <td>SC</td>\n",
       "      <td>2019-05-24 09:23:07.353</td>\n",
       "      <td>0</td>\n",
       "      <td>20190524</td>\n",
       "    </tr>\n",
       "    <tr>\n",
       "      <th>2</th>\n",
       "      <td>56</td>\n",
       "      <td>2019-05-24 11:00:16.493</td>\n",
       "      <td>1</td>\n",
       "      <td>471749</td>\n",
       "      <td>2228</td>\n",
       "      <td>2019-05-27 08:45:16.530</td>\n",
       "      <td>Visitante</td>\n",
       "      <td>SC</td>\n",
       "      <td>2019-05-24 11:00:16.493</td>\n",
       "      <td>0</td>\n",
       "      <td>20190524</td>\n",
       "    </tr>\n",
       "    <tr>\n",
       "      <th>3</th>\n",
       "      <td>57</td>\n",
       "      <td>2019-05-24 13:09:19.513</td>\n",
       "      <td>10</td>\n",
       "      <td>471727</td>\n",
       "      <td>1609</td>\n",
       "      <td>2019-05-27 16:22:09.927</td>\n",
       "      <td>Visitante</td>\n",
       "      <td>SC</td>\n",
       "      <td>2019-05-24 13:09:19.513</td>\n",
       "      <td>0</td>\n",
       "      <td>20190524</td>\n",
       "    </tr>\n",
       "    <tr>\n",
       "      <th>4</th>\n",
       "      <td>58</td>\n",
       "      <td>2019-05-24 13:46:00.393</td>\n",
       "      <td>11</td>\n",
       "      <td>471727</td>\n",
       "      <td>2228</td>\n",
       "      <td>2019-05-24 13:48:05.743</td>\n",
       "      <td>Acompanhante</td>\n",
       "      <td>SC</td>\n",
       "      <td>2019-05-24 13:46:00.393</td>\n",
       "      <td>0</td>\n",
       "      <td>20190524</td>\n",
       "    </tr>\n",
       "  </tbody>\n",
       "</table>\n",
       "</div>"
      ],
      "text/plain": [
       "   Id          DataHoraEntrada  IdVisitante  IdCensoItem  IdOperadorLiberacao  \\\n",
       "0  54  2019-05-23 17:12:08.817            1       471596                 2228   \n",
       "1  55  2019-05-24 09:23:07.353            1       471727                 2228   \n",
       "2  56  2019-05-24 11:00:16.493            1       471749                 2228   \n",
       "3  57  2019-05-24 13:09:19.513           10       471727                 1609   \n",
       "4  58  2019-05-24 13:46:00.393           11       471727                 2228   \n",
       "\n",
       "             DataHoraSaida    TipoVisita Local DataHoraEntradaConvertida  \\\n",
       "0  2019-05-24 09:08:04.413  Acompanhante    SC   2019-05-23 17:12:08.817   \n",
       "1  2019-05-24 09:23:23.460  Acompanhante    SC   2019-05-24 09:23:07.353   \n",
       "2  2019-05-27 08:45:16.530     Visitante    SC   2019-05-24 11:00:16.493   \n",
       "3  2019-05-27 16:22:09.927     Visitante    SC   2019-05-24 13:09:19.513   \n",
       "4  2019-05-24 13:48:05.743  Acompanhante    SC   2019-05-24 13:46:00.393   \n",
       "\n",
       "   FimDeSemana    IdData  \n",
       "0            0  20190523  \n",
       "1            0  20190524  \n",
       "2            0  20190524  \n",
       "3            0  20190524  \n",
       "4            0  20190524  "
      ]
     },
     "execution_count": 17,
     "metadata": {},
     "output_type": "execute_result"
    }
   ],
   "source": [
    "df_visitas.head()"
   ]
  },
  {
   "cell_type": "markdown",
   "metadata": {},
   "source": [
    "Iremos criar uma variável para obter a hora de entrada e em seguida usá-la para criar uma nova variável chamada Turno"
   ]
  },
  {
   "cell_type": "code",
   "execution_count": 13,
   "metadata": {},
   "outputs": [],
   "source": [
    "def get_visitation_hour(value):\n",
    "    return int(value.hour)"
   ]
  },
  {
   "cell_type": "code",
   "execution_count": 14,
   "metadata": {},
   "outputs": [],
   "source": [
    "def set_shift(value):\n",
    "    if value >= 6 and value < 12:\n",
    "        return 0\n",
    "    elif value > 12 and value < 18:\n",
    "        return 1\n",
    "    else:\n",
    "        return 2"
   ]
  },
  {
   "cell_type": "code",
   "execution_count": 15,
   "metadata": {},
   "outputs": [],
   "source": [
    "df_visitas['HoraEntrada'] = list(map(get_visitation_hour, df_visitas['DataHoraEntradaConvertida']))"
   ]
  },
  {
   "cell_type": "code",
   "execution_count": 16,
   "metadata": {},
   "outputs": [],
   "source": [
    "df_visitas['Turno'] = list(map(set_shift, df_visitas['HoraEntrada']))"
   ]
  },
  {
   "cell_type": "code",
   "execution_count": 17,
   "metadata": {},
   "outputs": [
    {
     "data": {
      "text/html": [
       "<div>\n",
       "<style scoped>\n",
       "    .dataframe tbody tr th:only-of-type {\n",
       "        vertical-align: middle;\n",
       "    }\n",
       "\n",
       "    .dataframe tbody tr th {\n",
       "        vertical-align: top;\n",
       "    }\n",
       "\n",
       "    .dataframe thead th {\n",
       "        text-align: right;\n",
       "    }\n",
       "</style>\n",
       "<table border=\"1\" class=\"dataframe\">\n",
       "  <thead>\n",
       "    <tr style=\"text-align: right;\">\n",
       "      <th></th>\n",
       "      <th>Id</th>\n",
       "      <th>DataHoraEntrada</th>\n",
       "      <th>IdVisitante</th>\n",
       "      <th>IdCensoItem</th>\n",
       "      <th>IdOperadorLiberacao</th>\n",
       "      <th>DataHoraSaida</th>\n",
       "      <th>TipoVisita</th>\n",
       "      <th>Local</th>\n",
       "      <th>DataHoraEntradaConvertida</th>\n",
       "      <th>FimDeSemana</th>\n",
       "      <th>IdData</th>\n",
       "      <th>HoraEntrada</th>\n",
       "      <th>Turno</th>\n",
       "    </tr>\n",
       "  </thead>\n",
       "  <tbody>\n",
       "    <tr>\n",
       "      <th>0</th>\n",
       "      <td>54</td>\n",
       "      <td>2019-05-23 17:12:08.817</td>\n",
       "      <td>1</td>\n",
       "      <td>471596</td>\n",
       "      <td>2228</td>\n",
       "      <td>2019-05-24 09:08:04.413</td>\n",
       "      <td>Acompanhante</td>\n",
       "      <td>SC</td>\n",
       "      <td>2019-05-23 17:12:08.817</td>\n",
       "      <td>0</td>\n",
       "      <td>20190523</td>\n",
       "      <td>17</td>\n",
       "      <td>1</td>\n",
       "    </tr>\n",
       "    <tr>\n",
       "      <th>1</th>\n",
       "      <td>55</td>\n",
       "      <td>2019-05-24 09:23:07.353</td>\n",
       "      <td>1</td>\n",
       "      <td>471727</td>\n",
       "      <td>2228</td>\n",
       "      <td>2019-05-24 09:23:23.460</td>\n",
       "      <td>Acompanhante</td>\n",
       "      <td>SC</td>\n",
       "      <td>2019-05-24 09:23:07.353</td>\n",
       "      <td>0</td>\n",
       "      <td>20190524</td>\n",
       "      <td>9</td>\n",
       "      <td>0</td>\n",
       "    </tr>\n",
       "    <tr>\n",
       "      <th>2</th>\n",
       "      <td>56</td>\n",
       "      <td>2019-05-24 11:00:16.493</td>\n",
       "      <td>1</td>\n",
       "      <td>471749</td>\n",
       "      <td>2228</td>\n",
       "      <td>2019-05-27 08:45:16.530</td>\n",
       "      <td>Visitante</td>\n",
       "      <td>SC</td>\n",
       "      <td>2019-05-24 11:00:16.493</td>\n",
       "      <td>0</td>\n",
       "      <td>20190524</td>\n",
       "      <td>11</td>\n",
       "      <td>0</td>\n",
       "    </tr>\n",
       "    <tr>\n",
       "      <th>3</th>\n",
       "      <td>57</td>\n",
       "      <td>2019-05-24 13:09:19.513</td>\n",
       "      <td>10</td>\n",
       "      <td>471727</td>\n",
       "      <td>1609</td>\n",
       "      <td>2019-05-27 16:22:09.927</td>\n",
       "      <td>Visitante</td>\n",
       "      <td>SC</td>\n",
       "      <td>2019-05-24 13:09:19.513</td>\n",
       "      <td>0</td>\n",
       "      <td>20190524</td>\n",
       "      <td>13</td>\n",
       "      <td>1</td>\n",
       "    </tr>\n",
       "    <tr>\n",
       "      <th>4</th>\n",
       "      <td>58</td>\n",
       "      <td>2019-05-24 13:46:00.393</td>\n",
       "      <td>11</td>\n",
       "      <td>471727</td>\n",
       "      <td>2228</td>\n",
       "      <td>2019-05-24 13:48:05.743</td>\n",
       "      <td>Acompanhante</td>\n",
       "      <td>SC</td>\n",
       "      <td>2019-05-24 13:46:00.393</td>\n",
       "      <td>0</td>\n",
       "      <td>20190524</td>\n",
       "      <td>13</td>\n",
       "      <td>1</td>\n",
       "    </tr>\n",
       "  </tbody>\n",
       "</table>\n",
       "</div>"
      ],
      "text/plain": [
       "   Id          DataHoraEntrada  IdVisitante  IdCensoItem  IdOperadorLiberacao  \\\n",
       "0  54  2019-05-23 17:12:08.817            1       471596                 2228   \n",
       "1  55  2019-05-24 09:23:07.353            1       471727                 2228   \n",
       "2  56  2019-05-24 11:00:16.493            1       471749                 2228   \n",
       "3  57  2019-05-24 13:09:19.513           10       471727                 1609   \n",
       "4  58  2019-05-24 13:46:00.393           11       471727                 2228   \n",
       "\n",
       "             DataHoraSaida    TipoVisita Local DataHoraEntradaConvertida  \\\n",
       "0  2019-05-24 09:08:04.413  Acompanhante    SC   2019-05-23 17:12:08.817   \n",
       "1  2019-05-24 09:23:23.460  Acompanhante    SC   2019-05-24 09:23:07.353   \n",
       "2  2019-05-27 08:45:16.530     Visitante    SC   2019-05-24 11:00:16.493   \n",
       "3  2019-05-27 16:22:09.927     Visitante    SC   2019-05-24 13:09:19.513   \n",
       "4  2019-05-24 13:48:05.743  Acompanhante    SC   2019-05-24 13:46:00.393   \n",
       "\n",
       "   FimDeSemana    IdData  HoraEntrada  Turno  \n",
       "0            0  20190523           17      1  \n",
       "1            0  20190524            9      0  \n",
       "2            0  20190524           11      0  \n",
       "3            0  20190524           13      1  \n",
       "4            0  20190524           13      1  "
      ]
     },
     "execution_count": 17,
     "metadata": {},
     "output_type": "execute_result"
    }
   ],
   "source": [
    "df_visitas.head()"
   ]
  },
  {
   "cell_type": "markdown",
   "metadata": {},
   "source": [
    "Iremos filtrar o dataset para que retorne somente os TipoVisitas Acompanhante e Visitante, pois estes caracterizam uma visita a um paciente internado, e em seguida realizaremos a contagem por dia de visitantes."
   ]
  },
  {
   "cell_type": "code",
   "execution_count": 18,
   "metadata": {},
   "outputs": [],
   "source": [
    "df_visitas_sum = df_visitas[df_visitas.TipoVisita.isin(['Acompanhante', 'Visitante'])]"
   ]
  },
  {
   "cell_type": "markdown",
   "metadata": {},
   "source": [
    "Separamos em duas versões, uma com 4 variáveis preditoras e outra apenas com duas com a finalidade de comparar os dois modelos posteriormente."
   ]
  },
  {
   "cell_type": "code",
   "execution_count": 19,
   "metadata": {},
   "outputs": [],
   "source": [
    "df_visitas_sum1 = df_visitas_sum.groupby(['IdData', 'FimDeSemana', 'HoraEntrada', 'Turno'])['Id'].count()\n",
    "df_visitas_sum2 = df_visitas_sum.groupby(['IdData', 'FimDeSemana'])['Id'].count()"
   ]
  },
  {
   "cell_type": "markdown",
   "metadata": {},
   "source": [
    "Visualizando as últimas visitas"
   ]
  },
  {
   "cell_type": "code",
   "execution_count": 20,
   "metadata": {},
   "outputs": [
    {
     "data": {
      "text/html": [
       "<div>\n",
       "<style scoped>\n",
       "    .dataframe tbody tr th:only-of-type {\n",
       "        vertical-align: middle;\n",
       "    }\n",
       "\n",
       "    .dataframe tbody tr th {\n",
       "        vertical-align: top;\n",
       "    }\n",
       "\n",
       "    .dataframe thead th {\n",
       "        text-align: right;\n",
       "    }\n",
       "</style>\n",
       "<table border=\"1\" class=\"dataframe\">\n",
       "  <thead>\n",
       "    <tr style=\"text-align: right;\">\n",
       "      <th></th>\n",
       "      <th>Id</th>\n",
       "      <th>DataHoraEntrada</th>\n",
       "      <th>IdVisitante</th>\n",
       "      <th>IdCensoItem</th>\n",
       "      <th>IdOperadorLiberacao</th>\n",
       "      <th>DataHoraSaida</th>\n",
       "      <th>TipoVisita</th>\n",
       "      <th>Local</th>\n",
       "      <th>DataHoraEntradaConvertida</th>\n",
       "      <th>FimDeSemana</th>\n",
       "      <th>IdData</th>\n",
       "      <th>HoraEntrada</th>\n",
       "      <th>Turno</th>\n",
       "    </tr>\n",
       "  </thead>\n",
       "  <tbody>\n",
       "    <tr>\n",
       "      <th>17465</th>\n",
       "      <td>21446</td>\n",
       "      <td>2019-08-23 13:52:23.490</td>\n",
       "      <td>14777</td>\n",
       "      <td>487124</td>\n",
       "      <td>3833</td>\n",
       "      <td>NaN</td>\n",
       "      <td>Visitante</td>\n",
       "      <td>SC</td>\n",
       "      <td>2019-08-23 13:52:23.490</td>\n",
       "      <td>0</td>\n",
       "      <td>20190823</td>\n",
       "      <td>13</td>\n",
       "      <td>1</td>\n",
       "    </tr>\n",
       "    <tr>\n",
       "      <th>17466</th>\n",
       "      <td>21447</td>\n",
       "      <td>2019-08-23 13:53:23.030</td>\n",
       "      <td>10642</td>\n",
       "      <td>486983</td>\n",
       "      <td>3873</td>\n",
       "      <td>NaN</td>\n",
       "      <td>Visitante</td>\n",
       "      <td>HI</td>\n",
       "      <td>2019-08-23 13:53:23.030</td>\n",
       "      <td>0</td>\n",
       "      <td>20190823</td>\n",
       "      <td>13</td>\n",
       "      <td>1</td>\n",
       "    </tr>\n",
       "    <tr>\n",
       "      <th>17467</th>\n",
       "      <td>21448</td>\n",
       "      <td>2019-08-23 13:54:02.930</td>\n",
       "      <td>10793</td>\n",
       "      <td>486983</td>\n",
       "      <td>3873</td>\n",
       "      <td>NaN</td>\n",
       "      <td>Visitante</td>\n",
       "      <td>HI</td>\n",
       "      <td>2019-08-23 13:54:02.930</td>\n",
       "      <td>0</td>\n",
       "      <td>20190823</td>\n",
       "      <td>13</td>\n",
       "      <td>1</td>\n",
       "    </tr>\n",
       "    <tr>\n",
       "      <th>17468</th>\n",
       "      <td>21449</td>\n",
       "      <td>2019-08-23 13:55:38.093</td>\n",
       "      <td>13704</td>\n",
       "      <td>487001</td>\n",
       "      <td>3833</td>\n",
       "      <td>NaN</td>\n",
       "      <td>Visitante</td>\n",
       "      <td>SC</td>\n",
       "      <td>2019-08-23 13:55:38.093</td>\n",
       "      <td>0</td>\n",
       "      <td>20190823</td>\n",
       "      <td>13</td>\n",
       "      <td>1</td>\n",
       "    </tr>\n",
       "    <tr>\n",
       "      <th>17470</th>\n",
       "      <td>21451</td>\n",
       "      <td>2019-08-23 13:56:43.933</td>\n",
       "      <td>14778</td>\n",
       "      <td>487099</td>\n",
       "      <td>3833</td>\n",
       "      <td>NaN</td>\n",
       "      <td>Visitante</td>\n",
       "      <td>SC</td>\n",
       "      <td>2019-08-23 13:56:43.933</td>\n",
       "      <td>0</td>\n",
       "      <td>20190823</td>\n",
       "      <td>13</td>\n",
       "      <td>1</td>\n",
       "    </tr>\n",
       "    <tr>\n",
       "      <th>17474</th>\n",
       "      <td>21455</td>\n",
       "      <td>2019-08-23 14:02:19.630</td>\n",
       "      <td>14780</td>\n",
       "      <td>487095</td>\n",
       "      <td>3873</td>\n",
       "      <td>NaN</td>\n",
       "      <td>Visitante</td>\n",
       "      <td>HI</td>\n",
       "      <td>2019-08-23 14:02:19.630</td>\n",
       "      <td>0</td>\n",
       "      <td>20190823</td>\n",
       "      <td>14</td>\n",
       "      <td>1</td>\n",
       "    </tr>\n",
       "    <tr>\n",
       "      <th>17475</th>\n",
       "      <td>21456</td>\n",
       "      <td>2019-08-23 14:02:29.610</td>\n",
       "      <td>14781</td>\n",
       "      <td>486978</td>\n",
       "      <td>3833</td>\n",
       "      <td>NaN</td>\n",
       "      <td>Visitante</td>\n",
       "      <td>SC</td>\n",
       "      <td>2019-08-23 14:02:29.610</td>\n",
       "      <td>0</td>\n",
       "      <td>20190823</td>\n",
       "      <td>14</td>\n",
       "      <td>1</td>\n",
       "    </tr>\n",
       "    <tr>\n",
       "      <th>17476</th>\n",
       "      <td>21457</td>\n",
       "      <td>2019-08-23 14:02:44.727</td>\n",
       "      <td>14562</td>\n",
       "      <td>487095</td>\n",
       "      <td>3873</td>\n",
       "      <td>2019-08-23 14:03:22.453</td>\n",
       "      <td>Visitante</td>\n",
       "      <td>HI</td>\n",
       "      <td>2019-08-23 14:02:44.727</td>\n",
       "      <td>0</td>\n",
       "      <td>20190823</td>\n",
       "      <td>14</td>\n",
       "      <td>1</td>\n",
       "    </tr>\n",
       "    <tr>\n",
       "      <th>17477</th>\n",
       "      <td>21458</td>\n",
       "      <td>2019-08-23 14:03:13.090</td>\n",
       "      <td>14782</td>\n",
       "      <td>486978</td>\n",
       "      <td>3833</td>\n",
       "      <td>NaN</td>\n",
       "      <td>Visitante</td>\n",
       "      <td>SC</td>\n",
       "      <td>2019-08-23 14:03:13.090</td>\n",
       "      <td>0</td>\n",
       "      <td>20190823</td>\n",
       "      <td>14</td>\n",
       "      <td>1</td>\n",
       "    </tr>\n",
       "    <tr>\n",
       "      <th>17478</th>\n",
       "      <td>21459</td>\n",
       "      <td>2019-08-23 14:03:36.603</td>\n",
       "      <td>14476</td>\n",
       "      <td>487095</td>\n",
       "      <td>3873</td>\n",
       "      <td>NaN</td>\n",
       "      <td>Visitante</td>\n",
       "      <td>HI</td>\n",
       "      <td>2019-08-23 14:03:36.603</td>\n",
       "      <td>0</td>\n",
       "      <td>20190823</td>\n",
       "      <td>14</td>\n",
       "      <td>1</td>\n",
       "    </tr>\n",
       "  </tbody>\n",
       "</table>\n",
       "</div>"
      ],
      "text/plain": [
       "          Id          DataHoraEntrada  IdVisitante  IdCensoItem  \\\n",
       "17465  21446  2019-08-23 13:52:23.490        14777       487124   \n",
       "17466  21447  2019-08-23 13:53:23.030        10642       486983   \n",
       "17467  21448  2019-08-23 13:54:02.930        10793       486983   \n",
       "17468  21449  2019-08-23 13:55:38.093        13704       487001   \n",
       "17470  21451  2019-08-23 13:56:43.933        14778       487099   \n",
       "17474  21455  2019-08-23 14:02:19.630        14780       487095   \n",
       "17475  21456  2019-08-23 14:02:29.610        14781       486978   \n",
       "17476  21457  2019-08-23 14:02:44.727        14562       487095   \n",
       "17477  21458  2019-08-23 14:03:13.090        14782       486978   \n",
       "17478  21459  2019-08-23 14:03:36.603        14476       487095   \n",
       "\n",
       "       IdOperadorLiberacao            DataHoraSaida TipoVisita Local  \\\n",
       "17465                 3833                      NaN  Visitante    SC   \n",
       "17466                 3873                      NaN  Visitante    HI   \n",
       "17467                 3873                      NaN  Visitante    HI   \n",
       "17468                 3833                      NaN  Visitante    SC   \n",
       "17470                 3833                      NaN  Visitante    SC   \n",
       "17474                 3873                      NaN  Visitante    HI   \n",
       "17475                 3833                      NaN  Visitante    SC   \n",
       "17476                 3873  2019-08-23 14:03:22.453  Visitante    HI   \n",
       "17477                 3833                      NaN  Visitante    SC   \n",
       "17478                 3873                      NaN  Visitante    HI   \n",
       "\n",
       "      DataHoraEntradaConvertida  FimDeSemana    IdData  HoraEntrada  Turno  \n",
       "17465   2019-08-23 13:52:23.490            0  20190823           13      1  \n",
       "17466   2019-08-23 13:53:23.030            0  20190823           13      1  \n",
       "17467   2019-08-23 13:54:02.930            0  20190823           13      1  \n",
       "17468   2019-08-23 13:55:38.093            0  20190823           13      1  \n",
       "17470   2019-08-23 13:56:43.933            0  20190823           13      1  \n",
       "17474   2019-08-23 14:02:19.630            0  20190823           14      1  \n",
       "17475   2019-08-23 14:02:29.610            0  20190823           14      1  \n",
       "17476   2019-08-23 14:02:44.727            0  20190823           14      1  \n",
       "17477   2019-08-23 14:03:13.090            0  20190823           14      1  \n",
       "17478   2019-08-23 14:03:36.603            0  20190823           14      1  "
      ]
     },
     "execution_count": 20,
     "metadata": {},
     "output_type": "execute_result"
    }
   ],
   "source": [
    "df_visitas_sum.tail(10)"
   ]
  },
  {
   "cell_type": "code",
   "execution_count": 21,
   "metadata": {},
   "outputs": [],
   "source": [
    "df_censo_sum = df_censo.groupby(['IdData'])['IdCensoItem'].count()"
   ]
  },
  {
   "cell_type": "markdown",
   "metadata": {},
   "source": [
    "Quando sumarizamos os dataframes, censo e visitas, o retorno foi um objeto do tipo series do pandas, na próxima linha iremos convertê-los para dataframe e realizar o join. Como os datasets serão unificados através do campo IdData, não será necessário identificar na função join os campos chaves."
   ]
  },
  {
   "cell_type": "code",
   "execution_count": 22,
   "metadata": {},
   "outputs": [],
   "source": [
    "dataset = df_censo_sum.to_frame().join(df_visitas_sum1.to_frame())"
   ]
  },
  {
   "cell_type": "code",
   "execution_count": 23,
   "metadata": {},
   "outputs": [],
   "source": [
    "dataset2 = df_censo_sum.to_frame().join(df_visitas_sum2.to_frame())"
   ]
  },
  {
   "cell_type": "code",
   "execution_count": 24,
   "metadata": {},
   "outputs": [
    {
     "data": {
      "text/html": [
       "<div>\n",
       "<style scoped>\n",
       "    .dataframe tbody tr th:only-of-type {\n",
       "        vertical-align: middle;\n",
       "    }\n",
       "\n",
       "    .dataframe tbody tr th {\n",
       "        vertical-align: top;\n",
       "    }\n",
       "\n",
       "    .dataframe thead th {\n",
       "        text-align: right;\n",
       "    }\n",
       "</style>\n",
       "<table border=\"1\" class=\"dataframe\">\n",
       "  <thead>\n",
       "    <tr style=\"text-align: right;\">\n",
       "      <th></th>\n",
       "      <th></th>\n",
       "      <th></th>\n",
       "      <th></th>\n",
       "      <th>IdCensoItem</th>\n",
       "      <th>Id</th>\n",
       "    </tr>\n",
       "    <tr>\n",
       "      <th>IdData</th>\n",
       "      <th>FimDeSemana</th>\n",
       "      <th>HoraEntrada</th>\n",
       "      <th>Turno</th>\n",
       "      <th></th>\n",
       "      <th></th>\n",
       "    </tr>\n",
       "  </thead>\n",
       "  <tbody>\n",
       "    <tr>\n",
       "      <th rowspan=\"5\" valign=\"top\">20190610</th>\n",
       "      <th rowspan=\"5\" valign=\"top\">0</th>\n",
       "      <th>11</th>\n",
       "      <th>0</th>\n",
       "      <td>160</td>\n",
       "      <td>4</td>\n",
       "    </tr>\n",
       "    <tr>\n",
       "      <th>13</th>\n",
       "      <th>1</th>\n",
       "      <td>160</td>\n",
       "      <td>5</td>\n",
       "    </tr>\n",
       "    <tr>\n",
       "      <th>14</th>\n",
       "      <th>1</th>\n",
       "      <td>160</td>\n",
       "      <td>13</td>\n",
       "    </tr>\n",
       "    <tr>\n",
       "      <th>15</th>\n",
       "      <th>1</th>\n",
       "      <td>160</td>\n",
       "      <td>15</td>\n",
       "    </tr>\n",
       "    <tr>\n",
       "      <th>16</th>\n",
       "      <th>1</th>\n",
       "      <td>160</td>\n",
       "      <td>5</td>\n",
       "    </tr>\n",
       "  </tbody>\n",
       "</table>\n",
       "</div>"
      ],
      "text/plain": [
       "                                        IdCensoItem  Id\n",
       "IdData   FimDeSemana HoraEntrada Turno                 \n",
       "20190610 0           11          0              160   4\n",
       "                     13          1              160   5\n",
       "                     14          1              160  13\n",
       "                     15          1              160  15\n",
       "                     16          1              160   5"
      ]
     },
     "execution_count": 24,
     "metadata": {},
     "output_type": "execute_result"
    }
   ],
   "source": [
    "dataset.head()"
   ]
  },
  {
   "cell_type": "code",
   "execution_count": 25,
   "metadata": {},
   "outputs": [
    {
     "data": {
      "text/html": [
       "<div>\n",
       "<style scoped>\n",
       "    .dataframe tbody tr th:only-of-type {\n",
       "        vertical-align: middle;\n",
       "    }\n",
       "\n",
       "    .dataframe tbody tr th {\n",
       "        vertical-align: top;\n",
       "    }\n",
       "\n",
       "    .dataframe thead th {\n",
       "        text-align: right;\n",
       "    }\n",
       "</style>\n",
       "<table border=\"1\" class=\"dataframe\">\n",
       "  <thead>\n",
       "    <tr style=\"text-align: right;\">\n",
       "      <th></th>\n",
       "      <th></th>\n",
       "      <th>IdCensoItem</th>\n",
       "      <th>Id</th>\n",
       "    </tr>\n",
       "    <tr>\n",
       "      <th>IdData</th>\n",
       "      <th>FimDeSemana</th>\n",
       "      <th></th>\n",
       "      <th></th>\n",
       "    </tr>\n",
       "  </thead>\n",
       "  <tbody>\n",
       "    <tr>\n",
       "      <th>20190610</th>\n",
       "      <th>0</th>\n",
       "      <td>160</td>\n",
       "      <td>71</td>\n",
       "    </tr>\n",
       "    <tr>\n",
       "      <th>20190611</th>\n",
       "      <th>0</th>\n",
       "      <td>163</td>\n",
       "      <td>49</td>\n",
       "    </tr>\n",
       "    <tr>\n",
       "      <th>20190612</th>\n",
       "      <th>0</th>\n",
       "      <td>169</td>\n",
       "      <td>66</td>\n",
       "    </tr>\n",
       "    <tr>\n",
       "      <th>20190613</th>\n",
       "      <th>0</th>\n",
       "      <td>168</td>\n",
       "      <td>75</td>\n",
       "    </tr>\n",
       "    <tr>\n",
       "      <th>20190614</th>\n",
       "      <th>0</th>\n",
       "      <td>167</td>\n",
       "      <td>80</td>\n",
       "    </tr>\n",
       "  </tbody>\n",
       "</table>\n",
       "</div>"
      ],
      "text/plain": [
       "                      IdCensoItem  Id\n",
       "IdData   FimDeSemana                 \n",
       "20190610 0                    160  71\n",
       "20190611 0                    163  49\n",
       "20190612 0                    169  66\n",
       "20190613 0                    168  75\n",
       "20190614 0                    167  80"
      ]
     },
     "execution_count": 25,
     "metadata": {},
     "output_type": "execute_result"
    }
   ],
   "source": [
    "dataset2.head()"
   ]
  },
  {
   "cell_type": "markdown",
   "metadata": {},
   "source": [
    "Iremos alterar o nome das colunas IdCensoItem e Id para facilitar a compreensão deste novo dataset, pois sabemos que os campos IdCensoItem é a quantidade de pacientes no censo diário e Id é a quantidade de visitantes e acompanhantes do dia."
   ]
  },
  {
   "cell_type": "code",
   "execution_count": 26,
   "metadata": {},
   "outputs": [],
   "source": [
    "dataset.columns = ['QuantidadePacientes', 'QuantidadeVisitantes']\n",
    "dataset2.columns = ['QuantidadePacientes', 'QuantidadeVisitantes']"
   ]
  },
  {
   "cell_type": "code",
   "execution_count": 27,
   "metadata": {},
   "outputs": [
    {
     "data": {
      "text/html": [
       "<div>\n",
       "<style scoped>\n",
       "    .dataframe tbody tr th:only-of-type {\n",
       "        vertical-align: middle;\n",
       "    }\n",
       "\n",
       "    .dataframe tbody tr th {\n",
       "        vertical-align: top;\n",
       "    }\n",
       "\n",
       "    .dataframe thead th {\n",
       "        text-align: right;\n",
       "    }\n",
       "</style>\n",
       "<table border=\"1\" class=\"dataframe\">\n",
       "  <thead>\n",
       "    <tr style=\"text-align: right;\">\n",
       "      <th></th>\n",
       "      <th></th>\n",
       "      <th></th>\n",
       "      <th></th>\n",
       "      <th>QuantidadePacientes</th>\n",
       "      <th>QuantidadeVisitantes</th>\n",
       "    </tr>\n",
       "    <tr>\n",
       "      <th>IdData</th>\n",
       "      <th>FimDeSemana</th>\n",
       "      <th>HoraEntrada</th>\n",
       "      <th>Turno</th>\n",
       "      <th></th>\n",
       "      <th></th>\n",
       "    </tr>\n",
       "  </thead>\n",
       "  <tbody>\n",
       "    <tr>\n",
       "      <th rowspan=\"5\" valign=\"top\">20190610</th>\n",
       "      <th rowspan=\"5\" valign=\"top\">0</th>\n",
       "      <th>11</th>\n",
       "      <th>0</th>\n",
       "      <td>160</td>\n",
       "      <td>4</td>\n",
       "    </tr>\n",
       "    <tr>\n",
       "      <th>13</th>\n",
       "      <th>1</th>\n",
       "      <td>160</td>\n",
       "      <td>5</td>\n",
       "    </tr>\n",
       "    <tr>\n",
       "      <th>14</th>\n",
       "      <th>1</th>\n",
       "      <td>160</td>\n",
       "      <td>13</td>\n",
       "    </tr>\n",
       "    <tr>\n",
       "      <th>15</th>\n",
       "      <th>1</th>\n",
       "      <td>160</td>\n",
       "      <td>15</td>\n",
       "    </tr>\n",
       "    <tr>\n",
       "      <th>16</th>\n",
       "      <th>1</th>\n",
       "      <td>160</td>\n",
       "      <td>5</td>\n",
       "    </tr>\n",
       "  </tbody>\n",
       "</table>\n",
       "</div>"
      ],
      "text/plain": [
       "                                        QuantidadePacientes  \\\n",
       "IdData   FimDeSemana HoraEntrada Turno                        \n",
       "20190610 0           11          0                      160   \n",
       "                     13          1                      160   \n",
       "                     14          1                      160   \n",
       "                     15          1                      160   \n",
       "                     16          1                      160   \n",
       "\n",
       "                                        QuantidadeVisitantes  \n",
       "IdData   FimDeSemana HoraEntrada Turno                        \n",
       "20190610 0           11          0                         4  \n",
       "                     13          1                         5  \n",
       "                     14          1                        13  \n",
       "                     15          1                        15  \n",
       "                     16          1                         5  "
      ]
     },
     "execution_count": 27,
     "metadata": {},
     "output_type": "execute_result"
    }
   ],
   "source": [
    "dataset.head()"
   ]
  },
  {
   "cell_type": "code",
   "execution_count": 28,
   "metadata": {},
   "outputs": [
    {
     "data": {
      "text/html": [
       "<div>\n",
       "<style scoped>\n",
       "    .dataframe tbody tr th:only-of-type {\n",
       "        vertical-align: middle;\n",
       "    }\n",
       "\n",
       "    .dataframe tbody tr th {\n",
       "        vertical-align: top;\n",
       "    }\n",
       "\n",
       "    .dataframe thead th {\n",
       "        text-align: right;\n",
       "    }\n",
       "</style>\n",
       "<table border=\"1\" class=\"dataframe\">\n",
       "  <thead>\n",
       "    <tr style=\"text-align: right;\">\n",
       "      <th></th>\n",
       "      <th></th>\n",
       "      <th>QuantidadePacientes</th>\n",
       "      <th>QuantidadeVisitantes</th>\n",
       "    </tr>\n",
       "    <tr>\n",
       "      <th>IdData</th>\n",
       "      <th>FimDeSemana</th>\n",
       "      <th></th>\n",
       "      <th></th>\n",
       "    </tr>\n",
       "  </thead>\n",
       "  <tbody>\n",
       "    <tr>\n",
       "      <th>20190610</th>\n",
       "      <th>0</th>\n",
       "      <td>160</td>\n",
       "      <td>71</td>\n",
       "    </tr>\n",
       "    <tr>\n",
       "      <th>20190611</th>\n",
       "      <th>0</th>\n",
       "      <td>163</td>\n",
       "      <td>49</td>\n",
       "    </tr>\n",
       "    <tr>\n",
       "      <th>20190612</th>\n",
       "      <th>0</th>\n",
       "      <td>169</td>\n",
       "      <td>66</td>\n",
       "    </tr>\n",
       "    <tr>\n",
       "      <th>20190613</th>\n",
       "      <th>0</th>\n",
       "      <td>168</td>\n",
       "      <td>75</td>\n",
       "    </tr>\n",
       "    <tr>\n",
       "      <th>20190614</th>\n",
       "      <th>0</th>\n",
       "      <td>167</td>\n",
       "      <td>80</td>\n",
       "    </tr>\n",
       "  </tbody>\n",
       "</table>\n",
       "</div>"
      ],
      "text/plain": [
       "                      QuantidadePacientes  QuantidadeVisitantes\n",
       "IdData   FimDeSemana                                           \n",
       "20190610 0                            160                    71\n",
       "20190611 0                            163                    49\n",
       "20190612 0                            169                    66\n",
       "20190613 0                            168                    75\n",
       "20190614 0                            167                    80"
      ]
     },
     "execution_count": 28,
     "metadata": {},
     "output_type": "execute_result"
    }
   ],
   "source": [
    "dataset2.head()"
   ]
  },
  {
   "cell_type": "markdown",
   "metadata": {},
   "source": [
    "Vamos remover os Index's e transformá-los em colunas para posterior análise"
   ]
  },
  {
   "cell_type": "code",
   "execution_count": 29,
   "metadata": {},
   "outputs": [],
   "source": [
    "dataset.reset_index(level = ['FimDeSemana', 'IdData', 'HoraEntrada', 'Turno'], inplace = True)\n",
    "dataset2.reset_index(level = ['FimDeSemana', 'IdData'], inplace = True)"
   ]
  },
  {
   "cell_type": "code",
   "execution_count": 30,
   "metadata": {},
   "outputs": [
    {
     "data": {
      "text/html": [
       "<div>\n",
       "<style scoped>\n",
       "    .dataframe tbody tr th:only-of-type {\n",
       "        vertical-align: middle;\n",
       "    }\n",
       "\n",
       "    .dataframe tbody tr th {\n",
       "        vertical-align: top;\n",
       "    }\n",
       "\n",
       "    .dataframe thead th {\n",
       "        text-align: right;\n",
       "    }\n",
       "</style>\n",
       "<table border=\"1\" class=\"dataframe\">\n",
       "  <thead>\n",
       "    <tr style=\"text-align: right;\">\n",
       "      <th></th>\n",
       "      <th>IdData</th>\n",
       "      <th>FimDeSemana</th>\n",
       "      <th>HoraEntrada</th>\n",
       "      <th>Turno</th>\n",
       "      <th>QuantidadePacientes</th>\n",
       "      <th>QuantidadeVisitantes</th>\n",
       "    </tr>\n",
       "  </thead>\n",
       "  <tbody>\n",
       "    <tr>\n",
       "      <th>0</th>\n",
       "      <td>20190610</td>\n",
       "      <td>0</td>\n",
       "      <td>11</td>\n",
       "      <td>0</td>\n",
       "      <td>160</td>\n",
       "      <td>4</td>\n",
       "    </tr>\n",
       "    <tr>\n",
       "      <th>1</th>\n",
       "      <td>20190610</td>\n",
       "      <td>0</td>\n",
       "      <td>13</td>\n",
       "      <td>1</td>\n",
       "      <td>160</td>\n",
       "      <td>5</td>\n",
       "    </tr>\n",
       "    <tr>\n",
       "      <th>2</th>\n",
       "      <td>20190610</td>\n",
       "      <td>0</td>\n",
       "      <td>14</td>\n",
       "      <td>1</td>\n",
       "      <td>160</td>\n",
       "      <td>13</td>\n",
       "    </tr>\n",
       "    <tr>\n",
       "      <th>3</th>\n",
       "      <td>20190610</td>\n",
       "      <td>0</td>\n",
       "      <td>15</td>\n",
       "      <td>1</td>\n",
       "      <td>160</td>\n",
       "      <td>15</td>\n",
       "    </tr>\n",
       "    <tr>\n",
       "      <th>4</th>\n",
       "      <td>20190610</td>\n",
       "      <td>0</td>\n",
       "      <td>16</td>\n",
       "      <td>1</td>\n",
       "      <td>160</td>\n",
       "      <td>5</td>\n",
       "    </tr>\n",
       "    <tr>\n",
       "      <th>5</th>\n",
       "      <td>20190610</td>\n",
       "      <td>0</td>\n",
       "      <td>17</td>\n",
       "      <td>1</td>\n",
       "      <td>160</td>\n",
       "      <td>12</td>\n",
       "    </tr>\n",
       "    <tr>\n",
       "      <th>6</th>\n",
       "      <td>20190610</td>\n",
       "      <td>0</td>\n",
       "      <td>18</td>\n",
       "      <td>2</td>\n",
       "      <td>160</td>\n",
       "      <td>8</td>\n",
       "    </tr>\n",
       "    <tr>\n",
       "      <th>7</th>\n",
       "      <td>20190610</td>\n",
       "      <td>0</td>\n",
       "      <td>19</td>\n",
       "      <td>2</td>\n",
       "      <td>160</td>\n",
       "      <td>5</td>\n",
       "    </tr>\n",
       "    <tr>\n",
       "      <th>8</th>\n",
       "      <td>20190610</td>\n",
       "      <td>0</td>\n",
       "      <td>20</td>\n",
       "      <td>2</td>\n",
       "      <td>160</td>\n",
       "      <td>1</td>\n",
       "    </tr>\n",
       "    <tr>\n",
       "      <th>9</th>\n",
       "      <td>20190610</td>\n",
       "      <td>0</td>\n",
       "      <td>21</td>\n",
       "      <td>2</td>\n",
       "      <td>160</td>\n",
       "      <td>3</td>\n",
       "    </tr>\n",
       "  </tbody>\n",
       "</table>\n",
       "</div>"
      ],
      "text/plain": [
       "     IdData  FimDeSemana  HoraEntrada  Turno  QuantidadePacientes  \\\n",
       "0  20190610            0           11      0                  160   \n",
       "1  20190610            0           13      1                  160   \n",
       "2  20190610            0           14      1                  160   \n",
       "3  20190610            0           15      1                  160   \n",
       "4  20190610            0           16      1                  160   \n",
       "5  20190610            0           17      1                  160   \n",
       "6  20190610            0           18      2                  160   \n",
       "7  20190610            0           19      2                  160   \n",
       "8  20190610            0           20      2                  160   \n",
       "9  20190610            0           21      2                  160   \n",
       "\n",
       "   QuantidadeVisitantes  \n",
       "0                     4  \n",
       "1                     5  \n",
       "2                    13  \n",
       "3                    15  \n",
       "4                     5  \n",
       "5                    12  \n",
       "6                     8  \n",
       "7                     5  \n",
       "8                     1  \n",
       "9                     3  "
      ]
     },
     "execution_count": 30,
     "metadata": {},
     "output_type": "execute_result"
    }
   ],
   "source": [
    "dataset.head(10)"
   ]
  },
  {
   "cell_type": "code",
   "execution_count": 31,
   "metadata": {},
   "outputs": [
    {
     "data": {
      "text/html": [
       "<div>\n",
       "<style scoped>\n",
       "    .dataframe tbody tr th:only-of-type {\n",
       "        vertical-align: middle;\n",
       "    }\n",
       "\n",
       "    .dataframe tbody tr th {\n",
       "        vertical-align: top;\n",
       "    }\n",
       "\n",
       "    .dataframe thead th {\n",
       "        text-align: right;\n",
       "    }\n",
       "</style>\n",
       "<table border=\"1\" class=\"dataframe\">\n",
       "  <thead>\n",
       "    <tr style=\"text-align: right;\">\n",
       "      <th></th>\n",
       "      <th>IdData</th>\n",
       "      <th>FimDeSemana</th>\n",
       "      <th>QuantidadePacientes</th>\n",
       "      <th>QuantidadeVisitantes</th>\n",
       "    </tr>\n",
       "  </thead>\n",
       "  <tbody>\n",
       "    <tr>\n",
       "      <th>0</th>\n",
       "      <td>20190610</td>\n",
       "      <td>0</td>\n",
       "      <td>160</td>\n",
       "      <td>71</td>\n",
       "    </tr>\n",
       "    <tr>\n",
       "      <th>1</th>\n",
       "      <td>20190611</td>\n",
       "      <td>0</td>\n",
       "      <td>163</td>\n",
       "      <td>49</td>\n",
       "    </tr>\n",
       "    <tr>\n",
       "      <th>2</th>\n",
       "      <td>20190612</td>\n",
       "      <td>0</td>\n",
       "      <td>169</td>\n",
       "      <td>66</td>\n",
       "    </tr>\n",
       "    <tr>\n",
       "      <th>3</th>\n",
       "      <td>20190613</td>\n",
       "      <td>0</td>\n",
       "      <td>168</td>\n",
       "      <td>75</td>\n",
       "    </tr>\n",
       "    <tr>\n",
       "      <th>4</th>\n",
       "      <td>20190614</td>\n",
       "      <td>0</td>\n",
       "      <td>167</td>\n",
       "      <td>80</td>\n",
       "    </tr>\n",
       "  </tbody>\n",
       "</table>\n",
       "</div>"
      ],
      "text/plain": [
       "     IdData  FimDeSemana  QuantidadePacientes  QuantidadeVisitantes\n",
       "0  20190610            0                  160                    71\n",
       "1  20190611            0                  163                    49\n",
       "2  20190612            0                  169                    66\n",
       "3  20190613            0                  168                    75\n",
       "4  20190614            0                  167                    80"
      ]
     },
     "execution_count": 31,
     "metadata": {},
     "output_type": "execute_result"
    }
   ],
   "source": [
    "dataset2.head()"
   ]
  },
  {
   "cell_type": "markdown",
   "metadata": {},
   "source": [
    "# Análise exploratória <a class=\"anchor\" id=\"analise\" />"
   ]
  },
  {
   "cell_type": "markdown",
   "metadata": {},
   "source": [
    "Exibindo a quantidade de pacientes internados vs a quantidade de visitantes, desconsiderando a quantidade de visitas por horário/turno:"
   ]
  },
  {
   "cell_type": "code",
   "execution_count": 35,
   "metadata": {},
   "outputs": [
    {
     "data": {
      "image/png": "[encoded data removed]",
      "text/plain": [
       "<Figure size 864x360 with 1 Axes>"
      ]
     },
     "metadata": {
      "needs_background": "light"
     },
     "output_type": "display_data"
    }
   ],
   "source": [
    "fig = plt.figure(figsize = (12, 5))\n",
    "fig.suptitle('Quantidade de internados vs Quantidade de Visitantes')\n",
    "\n",
    "plt.plot(dataset2['QuantidadePacientes'], label = 'Pacientes')\n",
    "plt.plot(dataset2['QuantidadeVisitantes'], label = 'Visitantes')\n",
    "\n",
    "plt.xlabel('Dias')\n",
    "plt.ylabel('Quantidade')\n",
    "\n",
    "plt.legend()\n",
    "\n",
    "plt.show()"
   ]
  },
  {
   "cell_type": "markdown",
   "metadata": {},
   "source": [
    "Como podemos ver no gráfico, a quantidade de visitantes tende a crescer com o aumento de pacientes internados."
   ]
  },
  {
   "cell_type": "markdown",
   "metadata": {},
   "source": [
    "### Distribuição dos dados <a class=\"anchor\" id=\"distribuicao\" />"
   ]
  },
  {
   "cell_type": "markdown",
   "metadata": {},
   "source": [
    "Pairplot do primeiro dataset"
   ]
  },
  {
   "cell_type": "code",
   "execution_count": 38,
   "metadata": {},
   "outputs": [
    {
     "data": {
      "text/plain": [
       "<seaborn.axisgrid.PairGrid at 0x7f01a25c0b38>"
      ]
     },
     "execution_count": 38,
     "metadata": {},
     "output_type": "execute_result"
    },
    {
     "data": {
      "image/png": "[encoded data removed]",
      "text/plain": [
       "<Figure size 1080x1080 with 42 Axes>"
      ]
     },
     "metadata": {
      "needs_background": "light"
     },
     "output_type": "display_data"
    }
   ],
   "source": [
    "sns.pairplot(dataset)"
   ]
  },
  {
   "cell_type": "markdown",
   "metadata": {},
   "source": [
    "Criando a matrix e o heatmap com a correlação das variáveis"
   ]
  },
  {
   "cell_type": "code",
   "execution_count": 39,
   "metadata": {},
   "outputs": [],
   "source": [
    "cor = dataset.corr()\n",
    "cor2 = dataset2.corr()"
   ]
  },
  {
   "cell_type": "markdown",
   "metadata": {},
   "source": [
    "HeatMap do primeiro dataset"
   ]
  },
  {
   "cell_type": "code",
   "execution_count": 40,
   "metadata": {},
   "outputs": [
    {
     "data": {
      "text/plain": [
       "<matplotlib.axes._subplots.AxesSubplot at 0x7f01a111e128>"
      ]
     },
     "execution_count": 40,
     "metadata": {},
     "output_type": "execute_result"
    },
    {
     "data": {
      "image/png": "[encoded data removed]",
      "text/plain": [
       "<Figure size 432x288 with 2 Axes>"
      ]
     },
     "metadata": {
      "needs_background": "light"
     },
     "output_type": "display_data"
    }
   ],
   "source": [
    "sns.heatmap(cor, annot = True, fmt = '.2f')"
   ]
  },
  {
   "cell_type": "markdown",
   "metadata": {},
   "source": [
    "HeatMap do segundo dataset"
   ]
  },
  {
   "cell_type": "code",
   "execution_count": 41,
   "metadata": {},
   "outputs": [
    {
     "data": {
      "text/plain": [
       "<matplotlib.axes._subplots.AxesSubplot at 0x7f01a02e2898>"
      ]
     },
     "execution_count": 41,
     "metadata": {},
     "output_type": "execute_result"
    },
    {
     "data": {
      "image/png": "[encoded data removed]",
      "text/plain": [
       "<Figure size 432x288 with 2 Axes>"
      ]
     },
     "metadata": {
      "needs_background": "light"
     },
     "output_type": "display_data"
    }
   ],
   "source": [
    "sns.heatmap(cor2, annot = True, fmt = '.2f')"
   ]
  },
  {
   "cell_type": "markdown",
   "metadata": {},
   "source": [
    "Pairplot do segundo dataset"
   ]
  },
  {
   "cell_type": "code",
   "execution_count": 42,
   "metadata": {},
   "outputs": [
    {
     "data": {
      "text/plain": [
       "<seaborn.axisgrid.PairGrid at 0x7f01a02e24e0>"
      ]
     },
     "execution_count": 42,
     "metadata": {},
     "output_type": "execute_result"
    },
    {
     "data": {
      "image/png": "[encoded data removed]",
      "text/plain": [
       "<Figure size 720x720 with 20 Axes>"
      ]
     },
     "metadata": {
      "needs_background": "light"
     },
     "output_type": "display_data"
    }
   ],
   "source": [
    "sns.pairplot(dataset2)"
   ]
  },
  {
   "cell_type": "markdown",
   "metadata": {},
   "source": [
    "# Transformações para aplicação de machine learning <a class=\"anchor\" id=\"ml\" />"
   ]
  },
  {
   "cell_type": "markdown",
   "metadata": {},
   "source": [
    "Agora iremos criar o modelo utilizando o dataset com 5 variáveis preditoras (IdData, FimDeSemana, HoraEntrada, Turno, QuantidadePacientes)"
   ]
  },
  {
   "cell_type": "markdown",
   "metadata": {},
   "source": [
    "## Normalização dos dados<a id=\"normalizacao\" />"
   ]
  },
  {
   "cell_type": "code",
   "execution_count": 43,
   "metadata": {},
   "outputs": [],
   "source": [
    "norm = Normalizer()"
   ]
  },
  {
   "cell_type": "code",
   "execution_count": 44,
   "metadata": {},
   "outputs": [],
   "source": [
    "normalized_dataset = norm.fit_transform(dataset)\n",
    "norm_x1 = normalized_dataset[:, 0:5]\n",
    "norm_y1 = normalized_dataset[:, 5]"
   ]
  },
  {
   "cell_type": "code",
   "execution_count": 45,
   "metadata": {},
   "outputs": [],
   "source": [
    "normalized_dataset2 = norm.fit_transform(dataset2)\n",
    "norm_x2 = normalized_dataset2[:, 0:3]\n",
    "norm_y2 = normalized_dataset2[:, 3]"
   ]
  },
  {
   "cell_type": "markdown",
   "metadata": {},
   "source": [
    "Divisão em dados de treino e teste dos dados normalizados do dataset01"
   ]
  },
  {
   "cell_type": "code",
   "execution_count": 46,
   "metadata": {},
   "outputs": [],
   "source": [
    "x_train1, x_test1, y_train1, y_test1 = train_test_split(norm_x1, norm_y1, test_size = 0.30, random_state = 1)"
   ]
  },
  {
   "cell_type": "markdown",
   "metadata": {},
   "source": [
    "Criando dados de treino e teste dos dados normalizados do dataset02"
   ]
  },
  {
   "cell_type": "code",
   "execution_count": 47,
   "metadata": {},
   "outputs": [],
   "source": [
    "x_train2, x_test2, y_train2, y_test2 = train_test_split(norm_x2, norm_y2, test_size = 0.30, random_state = 1)"
   ]
  },
  {
   "cell_type": "markdown",
   "metadata": {},
   "source": [
    "## Lista de modelos utilizados<a id=\"modelos\" />"
   ]
  },
  {
   "cell_type": "markdown",
   "metadata": {},
   "source": [
    "Criando uma lista com os algoritmos que iremos utilizar juntamento com as especificações do GridSearchCV para encontrar a melhor combinação de parâmetros e assim melhorar nosso resultado"
   ]
  },
  {
   "cell_type": "code",
   "execution_count": 48,
   "metadata": {},
   "outputs": [],
   "source": [
    "models = [\n",
    "    {\n",
    "        'Algoritmo': 'Linear Regression', \n",
    "        'Modelo': LinearRegression(), \n",
    "        'Predição': None, \n",
    "        'GridSearch': {\n",
    "            'Modelo': None,\n",
    "            'Parametros': \n",
    "                {\n",
    "                    'fit_intercept': [True, False],\n",
    "                    'normalize': [False, True],\n",
    "                    'n_jobs': [None, 1, 2, 3, 4, 5]\n",
    "                },\n",
    "            'Predição': None\n",
    "        }\n",
    "    },\n",
    "    {\n",
    "        'Algoritmo': 'Ridge', \n",
    "        'Modelo': Ridge(), \n",
    "        'Predição': None, \n",
    "        'GridSearch': {\n",
    "            'Modelo': None,\n",
    "            'Parametros': {\n",
    "                'alpha': [0.1, 0.5, 1.0, 1.5]\n",
    "            },\n",
    "            'Predição': None\n",
    "        }\n",
    "    },\n",
    "    {\n",
    "        'Algoritmo': 'Decision Tree', \n",
    "        'Modelo': DecisionTreeRegressor(), \n",
    "        'Predição': None,\n",
    "        'GridSearch': {\n",
    "            'Modelo': None,\n",
    "            'Parametros': {},\n",
    "            'Predição': None\n",
    "        }\n",
    "    },\n",
    "    {\n",
    "        'Algoritmo': 'Random Forest', \n",
    "        'Modelo': RandomForestRegressor(), \n",
    "        'Predição': None,\n",
    "        'GridSearch': {\n",
    "            'Modelo': None,\n",
    "            'Parametros':\n",
    "                {\n",
    "                    'n_estimators': [5, 10, 15, 20, 30, 40, 50, 70, 85, 100],\n",
    "                    'criterion': ['mse', 'mae'],\n",
    "                    'bootstrap': [False, True]\n",
    "                },\n",
    "            'Predição': None\n",
    "        }\n",
    "    },\n",
    "    {\n",
    "        'Algoritmo': 'Gradient Boosting Regressor', \n",
    "        'Modelo': GradientBoostingRegressor(), \n",
    "        'Predição': None,\n",
    "        'GridSearch': {\n",
    "            'Modelo': None,\n",
    "            'Parametros': \n",
    "                {\n",
    "                    'learning_rate': [0.1, 0.3, 0.5, 1.0, 1.5, 1.8, 2.0],\n",
    "                    'n_estimators': [30, 50, 100, 110, 120, 150, 200],\n",
    "                    'max_depth': [1, 2, 3, 4, 5]\n",
    "                },\n",
    "            'Predição': None\n",
    "        }\n",
    "    }\n",
    "]"
   ]
  },
  {
   "cell_type": "markdown",
   "metadata": {},
   "source": [
    "## Funções auxiliares<a id=\"funcoes_auxiliares\" />"
   ]
  },
  {
   "cell_type": "markdown",
   "metadata": {},
   "source": [
    "Criando a lista de resultados compilados dos algoritmos de machine learning para posterior análise"
   ]
  },
  {
   "cell_type": "code",
   "execution_count": 90,
   "metadata": {},
   "outputs": [],
   "source": [
    "list_results = []"
   ]
  },
  {
   "cell_type": "code",
   "execution_count": 89,
   "metadata": {},
   "outputs": [],
   "source": [
    "def result_compilation(model, label, score_train, score_test):\n",
    "    #global result_compilation\n",
    "    return list_results.append({\n",
    "        'Dataset': label,\n",
    "        'Algoritmo': model,\n",
    "        'Score - Treino': score_train,\n",
    "        'Score - Teste': score_test,\n",
    "        'Diferença': score_test - score_train\n",
    "    })"
   ]
  },
  {
   "cell_type": "markdown",
   "metadata": {},
   "source": [
    "Criando a função que irá receber os dados de treino, teste e a lista de modelos de machine learning"
   ]
  },
  {
   "cell_type": "code",
   "execution_count": 91,
   "metadata": {},
   "outputs": [],
   "source": [
    "def ml_results(x_train, y_train, x_test, y_test, models, label):\n",
    "    print('Aplicando os algoritmos no dataset: ', label)\n",
    "    print('--------------------------------------------------')\n",
    "    for model in models:\n",
    "        print('Modelo: ', model['Algoritmo'])\n",
    "\n",
    "        model['Modelo'].fit(x_train, y_train)\n",
    "        model['Predição'] = model['Modelo'].predict(x_test)\n",
    "        \n",
    "        print('Precisão do modelo (padrão):', r2_score(y_test, model['Predição']))\n",
    "        score_train = model['Modelo'].score(x_train, y_train)\n",
    "        score_test = model['Modelo'].score(x_test, y_test)\n",
    "        print('Comparando precisão de treino e teste: ', score_train, score_test)\n",
    "        \n",
    "        result_compilation(model['Algoritmo'], label, score_train, score_test)\n",
    "        \n",
    "        print('--')\n",
    "        \n",
    "        if len(model['GridSearch']['Parametros']) > 0:\n",
    "            model['GridSearch']['Modelo'] = GridSearchCV(model['Modelo'], model['GridSearch']['Parametros'], cv = 10)\n",
    "            model['GridSearch']['Modelo'].fit(x_train, y_train)\n",
    "            model['GridSearch']['Predição'] = model['GridSearch']['Modelo'].predict(x_test)\n",
    "            \n",
    "            print('Precisão do GridSearch: ', r2_score(y_test, model['GridSearch']['Predição']))\n",
    "            print('Melhores parametros: ' , model['GridSearch']['Modelo'].best_params_)\n",
    "            print('Comparando precisão de treino e teste: ', model['GridSearch']['Modelo'].score(x_train, y_train), model['GridSearch']['Modelo'].score(x_test, y_test))\n",
    "            \n",
    "            result_compilation(model['Algoritmo'] + '-' + 'GridSearchCV', label, model['GridSearch']['Modelo'].score(x_train, y_train), model['GridSearch']['Modelo'].score(x_test, y_test))\n",
    "        print('--------------------------------------------------------------------------------------------------------')"
   ]
  },
  {
   "cell_type": "markdown",
   "metadata": {},
   "source": [
    "## Aplicando os algoritmos nos dados normalizados<a id=\"ml_norm\" />"
   ]
  },
  {
   "cell_type": "markdown",
   "metadata": {},
   "source": [
    "Aplicando a função criada acima nos nossos dados normalizados"
   ]
  },
  {
   "cell_type": "code",
   "execution_count": 92,
   "metadata": {},
   "outputs": [
    {
     "name": "stdout",
     "output_type": "stream",
     "text": [
      "Aplicando os algoritmos no dataset:  Dataset01 normalizado\n",
      "--------------------------------------------------\n",
      "Modelo:  Linear Regression\n",
      "Precisão do modelo (padrão): 0.7460911347748334\n",
      "Comparando precisão de treino e teste:  0.7408762545848344 0.7460911347748334\n",
      "--\n",
      "Precisão do GridSearch:  0.7460911347748334\n",
      "Melhores parametros:  {'fit_intercept': True, 'n_jobs': None, 'normalize': False}\n",
      "Comparando precisão de treino e teste:  0.7408762545848344 0.7460911347748334\n",
      "--------------------------------------------------------------------------------------------------------\n",
      "Modelo:  Ridge\n",
      "Precisão do modelo (padrão): -9.18052684095727e-05\n",
      "Comparando precisão de treino e teste:  1.0086709245626935e-11 -9.18052684095727e-05\n",
      "--\n",
      "Precisão do GridSearch:  -9.180514350348723e-05\n",
      "Melhores parametros:  {'alpha': 0.1}\n",
      "Comparando precisão de treino e teste:  1.0086631530015211e-10 -9.180514350348723e-05\n",
      "--------------------------------------------------------------------------------------------------------\n",
      "Modelo:  Decision Tree\n",
      "Precisão do modelo (padrão): -9.180528228824869e-05\n",
      "Comparando precisão de treino e teste:  0.0 -9.180528228824869e-05\n",
      "--\n",
      "--------------------------------------------------------------------------------------------------------\n",
      "Modelo:  Random Forest\n",
      "Precisão do modelo (padrão): -7.598611779124909e-06\n",
      "Comparando precisão de treino e teste:  -0.00014562002104057115 -7.598611779124909e-06\n",
      "--\n",
      "Precisão do GridSearch:  -0.0002912462377822056\n",
      "Melhores parametros:  {'bootstrap': True, 'criterion': 'mse', 'n_estimators': 20}\n",
      "Comparando precisão de treino e teste:  -5.358515584585888e-05 -0.0002912462377822056\n",
      "--------------------------------------------------------------------------------------------------------\n",
      "Modelo:  Gradient Boosting Regressor\n",
      "Precisão do modelo (padrão): -9.180528228824869e-05\n",
      "Comparando precisão de treino e teste:  0.0 -9.180528228824869e-05\n",
      "--\n",
      "Precisão do GridSearch:  -9.180528228824869e-05\n",
      "Melhores parametros:  {'learning_rate': 0.1, 'max_depth': 1, 'n_estimators': 30}\n",
      "Comparando precisão de treino e teste:  0.0 -9.180528228824869e-05\n",
      "--------------------------------------------------------------------------------------------------------\n"
     ]
    }
   ],
   "source": [
    "ml_results(x_train1, y_train1, x_test1, y_test1, models, 'Dataset01 normalizado')"
   ]
  },
  {
   "cell_type": "code",
   "execution_count": 93,
   "metadata": {},
   "outputs": [
    {
     "name": "stdout",
     "output_type": "stream",
     "text": [
      "Aplicando os algoritmos no dataset:  Dataset02 normalizado\n",
      "--------------------------------------------------\n",
      "Modelo:  Linear Regression\n",
      "Precisão do modelo (padrão): 0.9759896719194007\n",
      "Comparando precisão de treino e teste:  0.9694484208039882 0.9759896719194007\n",
      "--\n",
      "Precisão do GridSearch:  0.9759896719194007\n",
      "Melhores parametros:  {'fit_intercept': True, 'n_jobs': None, 'normalize': False}\n",
      "Comparando precisão de treino e teste:  0.9694484208039882 0.9759896719194007\n",
      "--------------------------------------------------------------------------------------------------------\n",
      "Modelo:  Ridge\n",
      "Precisão do modelo (padrão): -0.17213184663034675\n",
      "Comparando precisão de treino e teste:  4.125033647994769e-12 -0.17213184663034675\n",
      "--\n",
      "Precisão do GridSearch:  -0.1721318465785946\n",
      "Melhores parametros:  {'alpha': 0.1}\n",
      "Comparando precisão de treino e teste:  4.124989239073784e-11 -0.1721318465785946\n",
      "--------------------------------------------------------------------------------------------------------\n",
      "Modelo:  Decision Tree\n",
      "Precisão do modelo (padrão): -0.17213184663609726\n",
      "Comparando precisão de treino e teste:  0.0 -0.17213184663609726\n",
      "--\n",
      "--------------------------------------------------------------------------------------------------------\n",
      "Modelo:  Random Forest\n",
      "Precisão do modelo (padrão): -0.18110733729401374\n",
      "Comparando precisão de treino e teste:  -9.07175820719086e-05 -0.18110733729401374\n",
      "--\n",
      "Precisão do GridSearch:  -0.2967505940785651\n",
      "Melhores parametros:  {'bootstrap': True, 'criterion': 'mse', 'n_estimators': 10}\n",
      "Comparando precisão de treino e teste:  -0.013413977432343183 -0.2967505940785651\n",
      "--------------------------------------------------------------------------------------------------------\n",
      "Modelo:  Gradient Boosting Regressor\n",
      "Precisão do modelo (padrão): -0.17213184663609726\n",
      "Comparando precisão de treino e teste:  0.0 -0.17213184663609726\n",
      "--\n",
      "Precisão do GridSearch:  -0.1721318466360977\n",
      "Melhores parametros:  {'learning_rate': 1.0, 'max_depth': 1, 'n_estimators': 30}\n",
      "Comparando precisão de treino e teste:  -2.220446049250313e-16 -0.1721318466360977\n",
      "--------------------------------------------------------------------------------------------------------\n"
     ]
    }
   ],
   "source": [
    "ml_results(x_train2, y_train2, x_test2, y_test2, models, 'Dataset02 normalizado')"
   ]
  },
  {
   "cell_type": "markdown",
   "metadata": {},
   "source": [
    "Fizemos os testes com os dados normalizados e o modelo de regressão linear obteve o melhor score, utilizamos o r2 para avaliação do modelo. Em seguida iremos testar os mesmos modelos, porém com os dados escalados entre 0 e 1."
   ]
  },
  {
   "cell_type": "markdown",
   "metadata": {},
   "source": [
    "## Escalando os dados<a id=\"escalando\" />"
   ]
  },
  {
   "cell_type": "code",
   "execution_count": 54,
   "metadata": {},
   "outputs": [],
   "source": [
    "scaler = MinMaxScaler(feature_range = (0, 1))"
   ]
  },
  {
   "cell_type": "code",
   "execution_count": 55,
   "metadata": {},
   "outputs": [],
   "source": [
    "scaled_dataset = scaler.fit_transform(dataset)\n",
    "scaled_x1 = scaled_dataset[:, 0:5]\n",
    "scaled_y1 = scaled_dataset[:, 5]"
   ]
  },
  {
   "cell_type": "code",
   "execution_count": 56,
   "metadata": {},
   "outputs": [],
   "source": [
    "scaled_dataset2 = scaler.fit_transform(dataset2)\n",
    "scaled_x2 = scaled_dataset2[:, 0:3]\n",
    "scaled_y2 = scaled_dataset2[:, 3]"
   ]
  },
  {
   "cell_type": "markdown",
   "metadata": {},
   "source": [
    "Criando os dados de treino e teste dos dados escalados do dataset01"
   ]
  },
  {
   "cell_type": "code",
   "execution_count": 57,
   "metadata": {},
   "outputs": [],
   "source": [
    "x_train01, x_test01, y_train01, y_test01 = train_test_split(scaled_x1, scaled_y1, test_size = 0.30, random_state = 1)"
   ]
  },
  {
   "cell_type": "code",
   "execution_count": 58,
   "metadata": {},
   "outputs": [],
   "source": [
    "x_train02, x_test02, y_train02, y_test02 = train_test_split(scaled_x2, scaled_y2, test_size = 0.30, random_state = 1)"
   ]
  },
  {
   "cell_type": "markdown",
   "metadata": {},
   "source": [
    "## Aplicando os algoritmos nos dados escalados<a id=\"ml_scaled\" />"
   ]
  },
  {
   "cell_type": "code",
   "execution_count": 95,
   "metadata": {},
   "outputs": [
    {
     "name": "stdout",
     "output_type": "stream",
     "text": [
      "Aplicando os algoritmos no dataset:  Dataset01 escalado\n",
      "--------------------------------------------------\n",
      "Modelo:  Linear Regression\n",
      "Precisão do modelo (padrão): 0.18383239261856876\n",
      "Comparando precisão de treino e teste:  0.11334546654752886 0.18383239261856876\n",
      "--\n",
      "Precisão do GridSearch:  0.1693253162061683\n",
      "Melhores parametros:  {'fit_intercept': False, 'n_jobs': None, 'normalize': False}\n",
      "Comparando precisão de treino e teste:  0.11146362874488314 0.1693253162061683\n",
      "--------------------------------------------------------------------------------------------------------\n",
      "Modelo:  Ridge\n",
      "Precisão do modelo (padrão): 0.1811841602572568\n",
      "Comparando precisão de treino e teste:  0.11316926315057285 0.1811841602572568\n",
      "--\n",
      "Precisão do GridSearch:  0.17983929008722332\n",
      "Melhores parametros:  {'alpha': 1.5}\n",
      "Comparando precisão de treino e teste:  0.11296880852748424 0.17983929008722332\n",
      "--------------------------------------------------------------------------------------------------------\n",
      "Modelo:  Decision Tree\n",
      "Precisão do modelo (padrão): 0.5768843869631926\n",
      "Comparando precisão de treino e teste:  1.0 0.5768843869631926\n",
      "--\n",
      "--------------------------------------------------------------------------------------------------------\n",
      "Modelo:  Random Forest\n",
      "Precisão do modelo (padrão): 0.7856641446445723\n",
      "Comparando precisão de treino e teste:  0.954571499285381 0.7856641446445723\n",
      "--\n",
      "Precisão do GridSearch:  0.7947628771112942\n",
      "Melhores parametros:  {'bootstrap': True, 'criterion': 'mae', 'n_estimators': 85}\n",
      "Comparando precisão de treino e teste:  0.9627422185220847 0.7947628771112942\n",
      "--------------------------------------------------------------------------------------------------------\n",
      "Modelo:  Gradient Boosting Regressor\n",
      "Precisão do modelo (padrão): 0.8107618727572794\n",
      "Comparando precisão de treino e teste:  0.8545378662723471 0.8107618727572794\n",
      "--\n",
      "Precisão do GridSearch:  0.8154257968046172\n",
      "Melhores parametros:  {'learning_rate': 0.1, 'max_depth': 4, 'n_estimators': 50}\n",
      "Comparando precisão de treino e teste:  0.8624058568722565 0.8154257968046172\n",
      "--------------------------------------------------------------------------------------------------------\n"
     ]
    }
   ],
   "source": [
    "ml_results(x_train01, y_train01, x_test01, y_test01, models, 'Dataset01 escalado')"
   ]
  },
  {
   "cell_type": "code",
   "execution_count": 96,
   "metadata": {},
   "outputs": [
    {
     "name": "stdout",
     "output_type": "stream",
     "text": [
      "Aplicando os algoritmos no dataset:  Dataset02 escalado\n",
      "--------------------------------------------------\n",
      "Modelo:  Linear Regression\n",
      "Precisão do modelo (padrão): 0.5624147651003071\n",
      "Comparando precisão de treino e teste:  0.5951380158221905 0.5624147651003071\n",
      "--\n",
      "Precisão do GridSearch:  0.5637222365076922\n",
      "Melhores parametros:  {'fit_intercept': False, 'n_jobs': None, 'normalize': False}\n",
      "Comparando precisão de treino e teste:  0.5938608980076583 0.5637222365076922\n",
      "--------------------------------------------------------------------------------------------------------\n",
      "Modelo:  Ridge\n",
      "Precisão do modelo (padrão): 0.538844261650622\n",
      "Comparando precisão de treino e teste:  0.5836102142487991 0.538844261650622\n",
      "--\n",
      "Precisão do GridSearch:  0.5531033800053624\n",
      "Melhores parametros:  {'alpha': 0.5}\n",
      "Comparando precisão de treino e teste:  0.5916919457372433 0.5531033800053624\n",
      "--------------------------------------------------------------------------------------------------------\n",
      "Modelo:  Decision Tree\n",
      "Precisão do modelo (padrão): 0.4877136009837497\n",
      "Comparando precisão de treino e teste:  1.0 0.4877136009837497\n",
      "--\n",
      "--------------------------------------------------------------------------------------------------------\n",
      "Modelo:  Random Forest\n",
      "Precisão do modelo (padrão): 0.6098853259907451\n",
      "Comparando precisão de treino e teste:  0.9580060351903674 0.6098853259907451\n",
      "--\n",
      "Precisão do GridSearch:  0.6759933612984512\n",
      "Melhores parametros:  {'bootstrap': True, 'criterion': 'mae', 'n_estimators': 15}\n",
      "Comparando precisão de treino e teste:  0.96676731241683 0.6759933612984512\n",
      "--------------------------------------------------------------------------------------------------------\n",
      "Modelo:  Gradient Boosting Regressor\n",
      "Precisão do modelo (padrão): 0.6409750795312853\n",
      "Comparando precisão de treino e teste:  0.9969331262497363 0.6409750795312853\n",
      "--\n",
      "Precisão do GridSearch:  0.7103272982711102\n",
      "Melhores parametros:  {'learning_rate': 0.1, 'max_depth': 3, 'n_estimators': 30}\n",
      "Comparando precisão de treino e teste:  0.959562720997492 0.7103272982711102\n",
      "--------------------------------------------------------------------------------------------------------\n"
     ]
    }
   ],
   "source": [
    "ml_results(x_train02, y_train02, x_test02, y_test02, models, 'Dataset02 escalado')"
   ]
  },
  {
   "cell_type": "markdown",
   "metadata": {},
   "source": [
    "## Visualizando os resultados dos algoritmos nos datasets<a id=\"ver_resultados\" />"
   ]
  },
  {
   "cell_type": "code",
   "execution_count": 97,
   "metadata": {
    "scrolled": false
   },
   "outputs": [
    {
     "name": "stdout",
     "output_type": "stream",
     "text": [
      "Dataset:  Dataset01 normalizado\n",
      "Algoritmo:  Linear Regression\n",
      "Score - Treino:  0.7408762545848344\n",
      "Score - Teste:  0.7460911347748334\n",
      "Diferença dos scores:  0.005214880189998938\n",
      "-------------------------------------\n",
      "Dataset:  Dataset01 normalizado\n",
      "Algoritmo:  Linear Regression-GridSearchCV\n",
      "Score - Treino:  0.7408762545848344\n",
      "Score - Teste:  0.7460911347748334\n",
      "Diferença dos scores:  0.005214880189998938\n",
      "-------------------------------------\n",
      "Dataset:  Dataset01 normalizado\n",
      "Algoritmo:  Ridge\n",
      "Score - Treino:  1.0086709245626935e-11\n",
      "Score - Teste:  -9.18052684095727e-05\n",
      "Diferença dos scores:  -9.180527849628195e-05\n",
      "-------------------------------------\n",
      "Dataset:  Dataset01 normalizado\n",
      "Algoritmo:  Ridge-GridSearchCV\n",
      "Score - Treino:  1.0086631530015211e-10\n",
      "Score - Teste:  -9.180514350348723e-05\n",
      "Diferença dos scores:  -9.180524436980253e-05\n",
      "-------------------------------------\n",
      "Dataset:  Dataset01 normalizado\n",
      "Algoritmo:  Decision Tree\n",
      "Score - Treino:  0.0\n",
      "Score - Teste:  -9.180528228824869e-05\n",
      "Diferença dos scores:  -9.180528228824869e-05\n",
      "-------------------------------------\n",
      "Dataset:  Dataset01 normalizado\n",
      "Algoritmo:  Random Forest\n",
      "Score - Treino:  -0.00014562002104057115\n",
      "Score - Teste:  -7.598611779124909e-06\n",
      "Diferença dos scores:  0.00013802140926144624\n",
      "-------------------------------------\n",
      "Dataset:  Dataset01 normalizado\n",
      "Algoritmo:  Random Forest-GridSearchCV\n",
      "Score - Treino:  -5.358515584585888e-05\n",
      "Score - Teste:  -0.0002912462377822056\n",
      "Diferença dos scores:  -0.00023766108193634672\n",
      "-------------------------------------\n",
      "Dataset:  Dataset01 normalizado\n",
      "Algoritmo:  Gradient Boosting Regressor\n",
      "Score - Treino:  0.0\n",
      "Score - Teste:  -9.180528228824869e-05\n",
      "Diferença dos scores:  -9.180528228824869e-05\n",
      "-------------------------------------\n",
      "Dataset:  Dataset01 normalizado\n",
      "Algoritmo:  Gradient Boosting Regressor-GridSearchCV\n",
      "Score - Treino:  0.0\n",
      "Score - Teste:  -9.180528228824869e-05\n",
      "Diferença dos scores:  -9.180528228824869e-05\n",
      "-------------------------------------\n",
      "Dataset:  Dataset02 normalizado\n",
      "Algoritmo:  Linear Regression\n",
      "Score - Treino:  0.9694484208039882\n",
      "Score - Teste:  0.9759896719194007\n",
      "Diferença dos scores:  0.006541251115412483\n",
      "-------------------------------------\n",
      "Dataset:  Dataset02 normalizado\n",
      "Algoritmo:  Linear Regression-GridSearchCV\n",
      "Score - Treino:  0.9694484208039882\n",
      "Score - Teste:  0.9759896719194007\n",
      "Diferença dos scores:  0.006541251115412483\n",
      "-------------------------------------\n",
      "Dataset:  Dataset02 normalizado\n",
      "Algoritmo:  Ridge\n",
      "Score - Treino:  4.125033647994769e-12\n",
      "Score - Teste:  -0.17213184663034675\n",
      "Diferença dos scores:  -0.17213184663447179\n",
      "-------------------------------------\n",
      "Dataset:  Dataset02 normalizado\n",
      "Algoritmo:  Ridge-GridSearchCV\n",
      "Score - Treino:  4.124989239073784e-11\n",
      "Score - Teste:  -0.1721318465785946\n",
      "Diferença dos scores:  -0.1721318466198445\n",
      "-------------------------------------\n",
      "Dataset:  Dataset02 normalizado\n",
      "Algoritmo:  Decision Tree\n",
      "Score - Treino:  0.0\n",
      "Score - Teste:  -0.17213184663609726\n",
      "Diferença dos scores:  -0.17213184663609726\n",
      "-------------------------------------\n",
      "Dataset:  Dataset02 normalizado\n",
      "Algoritmo:  Random Forest\n",
      "Score - Treino:  -9.07175820719086e-05\n",
      "Score - Teste:  -0.18110733729401374\n",
      "Diferença dos scores:  -0.18101661971194183\n",
      "-------------------------------------\n",
      "Dataset:  Dataset02 normalizado\n",
      "Algoritmo:  Random Forest-GridSearchCV\n",
      "Score - Treino:  -0.013413977432343183\n",
      "Score - Teste:  -0.2967505940785651\n",
      "Diferença dos scores:  -0.2833366166462219\n",
      "-------------------------------------\n",
      "Dataset:  Dataset02 normalizado\n",
      "Algoritmo:  Gradient Boosting Regressor\n",
      "Score - Treino:  0.0\n",
      "Score - Teste:  -0.17213184663609726\n",
      "Diferença dos scores:  -0.17213184663609726\n",
      "-------------------------------------\n",
      "Dataset:  Dataset02 normalizado\n",
      "Algoritmo:  Gradient Boosting Regressor-GridSearchCV\n",
      "Score - Treino:  -2.220446049250313e-16\n",
      "Score - Teste:  -0.1721318466360977\n",
      "Diferença dos scores:  -0.17213184663609749\n",
      "-------------------------------------\n",
      "Dataset:  Dataset01 escalado\n",
      "Algoritmo:  Linear Regression\n",
      "Score - Treino:  0.11334546654752886\n",
      "Score - Teste:  0.18383239261856876\n",
      "Diferença dos scores:  0.0704869260710399\n",
      "-------------------------------------\n",
      "Dataset:  Dataset01 escalado\n",
      "Algoritmo:  Linear Regression-GridSearchCV\n",
      "Score - Treino:  0.11146362874488314\n",
      "Score - Teste:  0.1693253162061683\n",
      "Diferença dos scores:  0.05786168746128517\n",
      "-------------------------------------\n",
      "Dataset:  Dataset01 escalado\n",
      "Algoritmo:  Ridge\n",
      "Score - Treino:  0.11316926315057285\n",
      "Score - Teste:  0.1811841602572568\n",
      "Diferença dos scores:  0.06801489710668396\n",
      "-------------------------------------\n",
      "Dataset:  Dataset01 escalado\n",
      "Algoritmo:  Ridge-GridSearchCV\n",
      "Score - Treino:  0.11296880852748424\n",
      "Score - Teste:  0.17983929008722332\n",
      "Diferença dos scores:  0.06687048155973908\n",
      "-------------------------------------\n",
      "Dataset:  Dataset01 escalado\n",
      "Algoritmo:  Decision Tree\n",
      "Score - Treino:  1.0\n",
      "Score - Teste:  0.5745515454671082\n",
      "Diferença dos scores:  -0.4254484545328918\n",
      "-------------------------------------\n",
      "Dataset:  Dataset01 escalado\n",
      "Algoritmo:  Random Forest\n",
      "Score - Treino:  0.946489296239529\n",
      "Score - Teste:  0.7676172266178153\n",
      "Diferença dos scores:  -0.17887206962171376\n",
      "-------------------------------------\n",
      "Dataset:  Dataset01 escalado\n",
      "Algoritmo:  Linear Regression\n",
      "Score - Treino:  0.11334546654752886\n",
      "Score - Teste:  0.18383239261856876\n",
      "Diferença dos scores:  0.0704869260710399\n",
      "-------------------------------------\n",
      "Dataset:  Dataset01 escalado\n",
      "Algoritmo:  Linear Regression-GridSearchCV\n",
      "Score - Treino:  0.11146362874488314\n",
      "Score - Teste:  0.1693253162061683\n",
      "Diferença dos scores:  0.05786168746128517\n",
      "-------------------------------------\n",
      "Dataset:  Dataset01 escalado\n",
      "Algoritmo:  Ridge\n",
      "Score - Treino:  0.11316926315057285\n",
      "Score - Teste:  0.1811841602572568\n",
      "Diferença dos scores:  0.06801489710668396\n",
      "-------------------------------------\n",
      "Dataset:  Dataset01 escalado\n",
      "Algoritmo:  Ridge-GridSearchCV\n",
      "Score - Treino:  0.11296880852748424\n",
      "Score - Teste:  0.17983929008722332\n",
      "Diferença dos scores:  0.06687048155973908\n",
      "-------------------------------------\n",
      "Dataset:  Dataset01 escalado\n",
      "Algoritmo:  Decision Tree\n",
      "Score - Treino:  1.0\n",
      "Score - Teste:  0.5768843869631926\n",
      "Diferença dos scores:  -0.42311561303680745\n",
      "-------------------------------------\n",
      "Dataset:  Dataset01 escalado\n",
      "Algoritmo:  Random Forest\n",
      "Score - Treino:  0.954571499285381\n",
      "Score - Teste:  0.7856641446445723\n",
      "Diferença dos scores:  -0.16890735464080864\n",
      "-------------------------------------\n",
      "Dataset:  Dataset01 escalado\n",
      "Algoritmo:  Random Forest-GridSearchCV\n",
      "Score - Treino:  0.9627422185220847\n",
      "Score - Teste:  0.7947628771112942\n",
      "Diferença dos scores:  -0.16797934141079052\n",
      "-------------------------------------\n",
      "Dataset:  Dataset01 escalado\n",
      "Algoritmo:  Gradient Boosting Regressor\n",
      "Score - Treino:  0.8545378662723471\n",
      "Score - Teste:  0.8107618727572794\n",
      "Diferença dos scores:  -0.04377599351506767\n",
      "-------------------------------------\n",
      "Dataset:  Dataset01 escalado\n",
      "Algoritmo:  Gradient Boosting Regressor-GridSearchCV\n",
      "Score - Treino:  0.8624058568722565\n",
      "Score - Teste:  0.8154257968046172\n",
      "Diferença dos scores:  -0.04698006006763922\n",
      "-------------------------------------\n",
      "Dataset:  Dataset02 escalado\n",
      "Algoritmo:  Linear Regression\n",
      "Score - Treino:  0.5951380158221905\n",
      "Score - Teste:  0.5624147651003071\n",
      "Diferença dos scores:  -0.03272325072188342\n",
      "-------------------------------------\n",
      "Dataset:  Dataset02 escalado\n",
      "Algoritmo:  Linear Regression-GridSearchCV\n",
      "Score - Treino:  0.5938608980076583\n",
      "Score - Teste:  0.5637222365076922\n",
      "Diferença dos scores:  -0.030138661499966135\n",
      "-------------------------------------\n",
      "Dataset:  Dataset02 escalado\n",
      "Algoritmo:  Ridge\n",
      "Score - Treino:  0.5836102142487991\n",
      "Score - Teste:  0.538844261650622\n",
      "Diferença dos scores:  -0.04476595259817706\n",
      "-------------------------------------\n",
      "Dataset:  Dataset02 escalado\n",
      "Algoritmo:  Ridge-GridSearchCV\n",
      "Score - Treino:  0.5916919457372433\n",
      "Score - Teste:  0.5531033800053624\n",
      "Diferença dos scores:  -0.03858856573188085\n",
      "-------------------------------------\n",
      "Dataset:  Dataset02 escalado\n",
      "Algoritmo:  Decision Tree\n",
      "Score - Treino:  1.0\n",
      "Score - Teste:  0.4877136009837497\n",
      "Diferença dos scores:  -0.5122863990162503\n",
      "-------------------------------------\n",
      "Dataset:  Dataset02 escalado\n",
      "Algoritmo:  Random Forest\n",
      "Score - Treino:  0.9580060351903674\n",
      "Score - Teste:  0.6098853259907451\n",
      "Diferença dos scores:  -0.34812070919962235\n",
      "-------------------------------------\n",
      "Dataset:  Dataset02 escalado\n",
      "Algoritmo:  Random Forest-GridSearchCV\n",
      "Score - Treino:  0.96676731241683\n",
      "Score - Teste:  0.6759933612984512\n",
      "Diferença dos scores:  -0.2907739511183788\n",
      "-------------------------------------\n",
      "Dataset:  Dataset02 escalado\n",
      "Algoritmo:  Gradient Boosting Regressor\n",
      "Score - Treino:  0.9969331262497363\n",
      "Score - Teste:  0.6409750795312853\n",
      "Diferença dos scores:  -0.355958046718451\n",
      "-------------------------------------\n",
      "Dataset:  Dataset02 escalado\n",
      "Algoritmo:  Gradient Boosting Regressor-GridSearchCV\n",
      "Score - Treino:  0.959562720997492\n",
      "Score - Teste:  0.7103272982711102\n",
      "Diferença dos scores:  -0.24923542272638177\n",
      "-------------------------------------\n"
     ]
    }
   ],
   "source": [
    "for r in list_results:\n",
    "    print('Dataset: ', r['Dataset'])\n",
    "    print('Algoritmo: ', r['Algoritmo'])\n",
    "    print('Score - Treino: ', r['Score - Treino'])\n",
    "    print('Score - Teste: ', r['Score - Teste'])\n",
    "    print('Diferença dos scores: ', r['Diferença'])\n",
    "    print('-------------------------------------')"
   ]
  },
  {
   "cell_type": "markdown",
   "metadata": {},
   "source": [
    "## Preparando as funções de plotagem dos resultados<a id=\"func_plot\" />"
   ]
  },
  {
   "cell_type": "markdown",
   "metadata": {},
   "source": [
    "Iremos alterar o formato do tipo float para melhorar a visualização e plotagem dos dados e em seguida criaremos um dataset com a lista de resultados dos algoritmos."
   ]
  },
  {
   "cell_type": "code",
   "execution_count": 118,
   "metadata": {
    "scrolled": true
   },
   "outputs": [
    {
     "data": {
      "text/html": [
       "<div>\n",
       "<style scoped>\n",
       "    .dataframe tbody tr th:only-of-type {\n",
       "        vertical-align: middle;\n",
       "    }\n",
       "\n",
       "    .dataframe tbody tr th {\n",
       "        vertical-align: top;\n",
       "    }\n",
       "\n",
       "    .dataframe thead th {\n",
       "        text-align: right;\n",
       "    }\n",
       "</style>\n",
       "<table border=\"1\" class=\"dataframe\">\n",
       "  <thead>\n",
       "    <tr style=\"text-align: right;\">\n",
       "      <th></th>\n",
       "      <th>Algoritmo</th>\n",
       "      <th>Dataset</th>\n",
       "      <th>Diferença</th>\n",
       "      <th>Score - Teste</th>\n",
       "      <th>Score - Treino</th>\n",
       "    </tr>\n",
       "  </thead>\n",
       "  <tbody>\n",
       "    <tr>\n",
       "      <th>0</th>\n",
       "      <td>Linear Regression</td>\n",
       "      <td>Dataset01 normalizado</td>\n",
       "      <td>0.0052</td>\n",
       "      <td>0.7461</td>\n",
       "      <td>0.7409</td>\n",
       "    </tr>\n",
       "    <tr>\n",
       "      <th>1</th>\n",
       "      <td>Linear Regression-GridSearchCV</td>\n",
       "      <td>Dataset01 normalizado</td>\n",
       "      <td>0.0052</td>\n",
       "      <td>0.7461</td>\n",
       "      <td>0.7409</td>\n",
       "    </tr>\n",
       "    <tr>\n",
       "      <th>2</th>\n",
       "      <td>Ridge</td>\n",
       "      <td>Dataset01 normalizado</td>\n",
       "      <td>-0.0001</td>\n",
       "      <td>-0.0001</td>\n",
       "      <td>0.0000</td>\n",
       "    </tr>\n",
       "    <tr>\n",
       "      <th>3</th>\n",
       "      <td>Ridge-GridSearchCV</td>\n",
       "      <td>Dataset01 normalizado</td>\n",
       "      <td>-0.0001</td>\n",
       "      <td>-0.0001</td>\n",
       "      <td>0.0000</td>\n",
       "    </tr>\n",
       "    <tr>\n",
       "      <th>4</th>\n",
       "      <td>Decision Tree</td>\n",
       "      <td>Dataset01 normalizado</td>\n",
       "      <td>-0.0001</td>\n",
       "      <td>-0.0001</td>\n",
       "      <td>0.0000</td>\n",
       "    </tr>\n",
       "  </tbody>\n",
       "</table>\n",
       "</div>"
      ],
      "text/plain": [
       "                        Algoritmo                Dataset  Diferença  \\\n",
       "0               Linear Regression  Dataset01 normalizado     0.0052   \n",
       "1  Linear Regression-GridSearchCV  Dataset01 normalizado     0.0052   \n",
       "2                           Ridge  Dataset01 normalizado    -0.0001   \n",
       "3              Ridge-GridSearchCV  Dataset01 normalizado    -0.0001   \n",
       "4                   Decision Tree  Dataset01 normalizado    -0.0001   \n",
       "\n",
       "   Score - Teste  Score - Treino  \n",
       "0         0.7461          0.7409  \n",
       "1         0.7461          0.7409  \n",
       "2        -0.0001          0.0000  \n",
       "3        -0.0001          0.0000  \n",
       "4        -0.0001          0.0000  "
      ]
     },
     "execution_count": 118,
     "metadata": {},
     "output_type": "execute_result"
    }
   ],
   "source": [
    "pd.set_option('float_format', lambda x: '%.4f' % x)\n",
    "\n",
    "dataset_2 = pd.DataFrame(list_results)\n",
    "dataset_2.head()"
   ]
  },
  {
   "cell_type": "markdown",
   "metadata": {},
   "source": [
    "O campo \"diferença\" do dataset_2 é a diferença entre o score de teste com o score de treino."
   ]
  },
  {
   "cell_type": "markdown",
   "metadata": {},
   "source": [
    "Criando função para plotar a comparação entre os modelos e datasets"
   ]
  },
  {
   "cell_type": "code",
   "execution_count": 63,
   "metadata": {},
   "outputs": [],
   "source": [
    "def plot_bar_datasets(model, score_train, label_train, score_test, label_test, title):\n",
    "    fig, ax = plt.subplots(figsize = (16, 5))\n",
    "\n",
    "    width = 0.35\n",
    "\n",
    "    x = np.arange(len(model))\n",
    "\n",
    "    p1 = ax.bar(x - width/2, score_train, width, label = label_train)\n",
    "    p2 = ax.bar(x + width/2, score_test, width, label = label_test)\n",
    "\n",
    "    ax.set_xticks(x)\n",
    "    ax.set_xticklabels(model.values)\n",
    "\n",
    "    ax.legend(fontsize = 12)\n",
    "\n",
    "    fig.tight_layout()\n",
    "\n",
    "    plt.xticks(rotation = 90)\n",
    "\n",
    "    def autolabel(rects):\n",
    "\n",
    "        for rect in rects:\n",
    "            height = rect.get_height()\n",
    "            ax.annotate('{:.2f}'.format(height),\n",
    "                        xy=(rect.get_x() + rect.get_width() / 2, \n",
    "                            height),\n",
    "                        xytext=(0, 3),\n",
    "                        textcoords=\"offset points\",\n",
    "                        ha='center', \n",
    "                        va='center', \n",
    "                        rotation = 90)\n",
    "\n",
    "    autolabel(p1)\n",
    "    autolabel(p2)\n",
    "\n",
    "    plt.title(title, fontsize = 20)\n",
    "\n",
    "    plt.show()"
   ]
  },
  {
   "cell_type": "markdown",
   "metadata": {},
   "source": [
    "## Plotando os scores dos algoritmos<a id=\"plot_scores\" />"
   ]
  },
  {
   "cell_type": "markdown",
   "metadata": {},
   "source": [
    "Agora iremos avaliar através de gráficos quais foram os melhores algoritmos e qual a diferença de score entre os dados de treino e teste."
   ]
  },
  {
   "cell_type": "code",
   "execution_count": 119,
   "metadata": {},
   "outputs": [
    {
     "data": {
      "image/png": "[encoded data removed]",
      "text/plain": [
       "<Figure size 1152x360 with 1 Axes>"
      ]
     },
     "metadata": {
      "needs_background": "light"
     },
     "output_type": "display_data"
    }
   ],
   "source": [
    "plot_bar_datasets(dataset_2[dataset_2['Dataset'] == 'Dataset01 normalizado']['Algoritmo'],\n",
    "    dataset_2[dataset_2['Dataset'] == 'Dataset01 normalizado']['Score - Treino'],\n",
    "    'Treino',\n",
    "    dataset_2[dataset_2['Dataset'] == 'Dataset01 normalizado']['Score - Teste'],\n",
    "    'Teste',\n",
    "    'Dataset01 Normalizado')"
   ]
  },
  {
   "cell_type": "code",
   "execution_count": 120,
   "metadata": {},
   "outputs": [
    {
     "data": {
      "image/png": "[encoded data removed]",
      "text/plain": [
       "<Figure size 1152x360 with 1 Axes>"
      ]
     },
     "metadata": {
      "needs_background": "light"
     },
     "output_type": "display_data"
    }
   ],
   "source": [
    "plot_bar_datasets(dataset_2[dataset_2['Dataset'] == 'Dataset01 escalado']['Algoritmo'],\n",
    "    dataset_2[dataset_2['Dataset'] == 'Dataset01 escalado']['Score - Treino'],\n",
    "    'Treino',\n",
    "    dataset_2[dataset_2['Dataset'] == 'Dataset01 escalado']['Score - Teste'],\n",
    "    'Teste',\n",
    "    'Dataset01 Escalado')"
   ]
  },
  {
   "cell_type": "code",
   "execution_count": 121,
   "metadata": {},
   "outputs": [
    {
     "data": {
      "image/png": "[encoded data removed]",
      "text/plain": [
       "<Figure size 1152x360 with 1 Axes>"
      ]
     },
     "metadata": {
      "needs_background": "light"
     },
     "output_type": "display_data"
    }
   ],
   "source": [
    "plot_bar_datasets(dataset_2[dataset_2['Dataset'] == 'Dataset02 normalizado']['Algoritmo'],\n",
    "    dataset_2[dataset_2['Dataset'] == 'Dataset02 normalizado']['Score - Treino'],\n",
    "    'Treino',\n",
    "    dataset_2[dataset_2['Dataset'] == 'Dataset02 normalizado']['Score - Teste'],\n",
    "    'Teste',\n",
    "    'Dataset02 Normalizado')"
   ]
  },
  {
   "cell_type": "code",
   "execution_count": 101,
   "metadata": {},
   "outputs": [
    {
     "data": {
      "image/png": "[encoded data removed]",
      "text/plain": [
       "<Figure size 1152x360 with 1 Axes>"
      ]
     },
     "metadata": {
      "needs_background": "light"
     },
     "output_type": "display_data"
    }
   ],
   "source": [
    "plot_bar_datasets(dataset_2[dataset_2['Dataset'] == 'Dataset02 escalado']['Algoritmo'],\n",
    "    dataset_2[dataset_2['Dataset'] == 'Dataset02 escalado']['Score - Treino'],\n",
    "    'Treino',\n",
    "    dataset_2[dataset_2['Dataset'] == 'Dataset02 escalado']['Score - Teste'],\n",
    "    'Teste',\n",
    "    'Dataset02 Escalado')"
   ]
  },
  {
   "cell_type": "markdown",
   "metadata": {},
   "source": [
    "## Resultado dos modelos<a id=\"resultado\" />"
   ]
  },
  {
   "cell_type": "markdown",
   "metadata": {},
   "source": [
    "A seguir iremos \"rankear\" os algoritmos levando em consideração o melhor score de teste e menor diferença entre os scores de treino e teste:"
   ]
  },
  {
   "cell_type": "code",
   "execution_count": 125,
   "metadata": {
    "scrolled": false
   },
   "outputs": [
    {
     "data": {
      "text/html": [
       "<div>\n",
       "<style scoped>\n",
       "    .dataframe tbody tr th:only-of-type {\n",
       "        vertical-align: middle;\n",
       "    }\n",
       "\n",
       "    .dataframe tbody tr th {\n",
       "        vertical-align: top;\n",
       "    }\n",
       "\n",
       "    .dataframe thead th {\n",
       "        text-align: right;\n",
       "    }\n",
       "</style>\n",
       "<table border=\"1\" class=\"dataframe\">\n",
       "  <thead>\n",
       "    <tr style=\"text-align: right;\">\n",
       "      <th></th>\n",
       "      <th>Dataset</th>\n",
       "      <th>Algoritmo</th>\n",
       "      <th>Score - Teste</th>\n",
       "      <th>Score - Treino</th>\n",
       "      <th>Diferença</th>\n",
       "    </tr>\n",
       "  </thead>\n",
       "  <tbody>\n",
       "    <tr>\n",
       "      <th>9</th>\n",
       "      <td>Dataset02 normalizado</td>\n",
       "      <td>Linear Regression</td>\n",
       "      <td>0.9760</td>\n",
       "      <td>0.9694</td>\n",
       "      <td>0.0065</td>\n",
       "    </tr>\n",
       "    <tr>\n",
       "      <th>10</th>\n",
       "      <td>Dataset02 normalizado</td>\n",
       "      <td>Linear Regression-GridSearchCV</td>\n",
       "      <td>0.9760</td>\n",
       "      <td>0.9694</td>\n",
       "      <td>0.0065</td>\n",
       "    </tr>\n",
       "    <tr>\n",
       "      <th>32</th>\n",
       "      <td>Dataset01 escalado</td>\n",
       "      <td>Gradient Boosting Regressor-GridSearchCV</td>\n",
       "      <td>0.8154</td>\n",
       "      <td>0.8624</td>\n",
       "      <td>-0.0470</td>\n",
       "    </tr>\n",
       "    <tr>\n",
       "      <th>31</th>\n",
       "      <td>Dataset01 escalado</td>\n",
       "      <td>Gradient Boosting Regressor</td>\n",
       "      <td>0.8108</td>\n",
       "      <td>0.8545</td>\n",
       "      <td>-0.0438</td>\n",
       "    </tr>\n",
       "    <tr>\n",
       "      <th>30</th>\n",
       "      <td>Dataset01 escalado</td>\n",
       "      <td>Random Forest-GridSearchCV</td>\n",
       "      <td>0.7948</td>\n",
       "      <td>0.9627</td>\n",
       "      <td>-0.1680</td>\n",
       "    </tr>\n",
       "    <tr>\n",
       "      <th>29</th>\n",
       "      <td>Dataset01 escalado</td>\n",
       "      <td>Random Forest</td>\n",
       "      <td>0.7857</td>\n",
       "      <td>0.9546</td>\n",
       "      <td>-0.1689</td>\n",
       "    </tr>\n",
       "    <tr>\n",
       "      <th>23</th>\n",
       "      <td>Dataset01 escalado</td>\n",
       "      <td>Random Forest</td>\n",
       "      <td>0.7676</td>\n",
       "      <td>0.9465</td>\n",
       "      <td>-0.1789</td>\n",
       "    </tr>\n",
       "    <tr>\n",
       "      <th>0</th>\n",
       "      <td>Dataset01 normalizado</td>\n",
       "      <td>Linear Regression</td>\n",
       "      <td>0.7461</td>\n",
       "      <td>0.7409</td>\n",
       "      <td>0.0052</td>\n",
       "    </tr>\n",
       "    <tr>\n",
       "      <th>1</th>\n",
       "      <td>Dataset01 normalizado</td>\n",
       "      <td>Linear Regression-GridSearchCV</td>\n",
       "      <td>0.7461</td>\n",
       "      <td>0.7409</td>\n",
       "      <td>0.0052</td>\n",
       "    </tr>\n",
       "    <tr>\n",
       "      <th>41</th>\n",
       "      <td>Dataset02 escalado</td>\n",
       "      <td>Gradient Boosting Regressor-GridSearchCV</td>\n",
       "      <td>0.7103</td>\n",
       "      <td>0.9596</td>\n",
       "      <td>-0.2492</td>\n",
       "    </tr>\n",
       "    <tr>\n",
       "      <th>39</th>\n",
       "      <td>Dataset02 escalado</td>\n",
       "      <td>Random Forest-GridSearchCV</td>\n",
       "      <td>0.6760</td>\n",
       "      <td>0.9668</td>\n",
       "      <td>-0.2908</td>\n",
       "    </tr>\n",
       "    <tr>\n",
       "      <th>40</th>\n",
       "      <td>Dataset02 escalado</td>\n",
       "      <td>Gradient Boosting Regressor</td>\n",
       "      <td>0.6410</td>\n",
       "      <td>0.9969</td>\n",
       "      <td>-0.3560</td>\n",
       "    </tr>\n",
       "    <tr>\n",
       "      <th>38</th>\n",
       "      <td>Dataset02 escalado</td>\n",
       "      <td>Random Forest</td>\n",
       "      <td>0.6099</td>\n",
       "      <td>0.9580</td>\n",
       "      <td>-0.3481</td>\n",
       "    </tr>\n",
       "    <tr>\n",
       "      <th>28</th>\n",
       "      <td>Dataset01 escalado</td>\n",
       "      <td>Decision Tree</td>\n",
       "      <td>0.5769</td>\n",
       "      <td>1.0000</td>\n",
       "      <td>-0.4231</td>\n",
       "    </tr>\n",
       "    <tr>\n",
       "      <th>22</th>\n",
       "      <td>Dataset01 escalado</td>\n",
       "      <td>Decision Tree</td>\n",
       "      <td>0.5746</td>\n",
       "      <td>1.0000</td>\n",
       "      <td>-0.4254</td>\n",
       "    </tr>\n",
       "    <tr>\n",
       "      <th>34</th>\n",
       "      <td>Dataset02 escalado</td>\n",
       "      <td>Linear Regression-GridSearchCV</td>\n",
       "      <td>0.5637</td>\n",
       "      <td>0.5939</td>\n",
       "      <td>-0.0301</td>\n",
       "    </tr>\n",
       "    <tr>\n",
       "      <th>33</th>\n",
       "      <td>Dataset02 escalado</td>\n",
       "      <td>Linear Regression</td>\n",
       "      <td>0.5624</td>\n",
       "      <td>0.5951</td>\n",
       "      <td>-0.0327</td>\n",
       "    </tr>\n",
       "    <tr>\n",
       "      <th>36</th>\n",
       "      <td>Dataset02 escalado</td>\n",
       "      <td>Ridge-GridSearchCV</td>\n",
       "      <td>0.5531</td>\n",
       "      <td>0.5917</td>\n",
       "      <td>-0.0386</td>\n",
       "    </tr>\n",
       "    <tr>\n",
       "      <th>35</th>\n",
       "      <td>Dataset02 escalado</td>\n",
       "      <td>Ridge</td>\n",
       "      <td>0.5388</td>\n",
       "      <td>0.5836</td>\n",
       "      <td>-0.0448</td>\n",
       "    </tr>\n",
       "    <tr>\n",
       "      <th>37</th>\n",
       "      <td>Dataset02 escalado</td>\n",
       "      <td>Decision Tree</td>\n",
       "      <td>0.4877</td>\n",
       "      <td>1.0000</td>\n",
       "      <td>-0.5123</td>\n",
       "    </tr>\n",
       "    <tr>\n",
       "      <th>18</th>\n",
       "      <td>Dataset01 escalado</td>\n",
       "      <td>Linear Regression</td>\n",
       "      <td>0.1838</td>\n",
       "      <td>0.1133</td>\n",
       "      <td>0.0705</td>\n",
       "    </tr>\n",
       "    <tr>\n",
       "      <th>24</th>\n",
       "      <td>Dataset01 escalado</td>\n",
       "      <td>Linear Regression</td>\n",
       "      <td>0.1838</td>\n",
       "      <td>0.1133</td>\n",
       "      <td>0.0705</td>\n",
       "    </tr>\n",
       "    <tr>\n",
       "      <th>20</th>\n",
       "      <td>Dataset01 escalado</td>\n",
       "      <td>Ridge</td>\n",
       "      <td>0.1812</td>\n",
       "      <td>0.1132</td>\n",
       "      <td>0.0680</td>\n",
       "    </tr>\n",
       "    <tr>\n",
       "      <th>26</th>\n",
       "      <td>Dataset01 escalado</td>\n",
       "      <td>Ridge</td>\n",
       "      <td>0.1812</td>\n",
       "      <td>0.1132</td>\n",
       "      <td>0.0680</td>\n",
       "    </tr>\n",
       "    <tr>\n",
       "      <th>21</th>\n",
       "      <td>Dataset01 escalado</td>\n",
       "      <td>Ridge-GridSearchCV</td>\n",
       "      <td>0.1798</td>\n",
       "      <td>0.1130</td>\n",
       "      <td>0.0669</td>\n",
       "    </tr>\n",
       "    <tr>\n",
       "      <th>27</th>\n",
       "      <td>Dataset01 escalado</td>\n",
       "      <td>Ridge-GridSearchCV</td>\n",
       "      <td>0.1798</td>\n",
       "      <td>0.1130</td>\n",
       "      <td>0.0669</td>\n",
       "    </tr>\n",
       "    <tr>\n",
       "      <th>19</th>\n",
       "      <td>Dataset01 escalado</td>\n",
       "      <td>Linear Regression-GridSearchCV</td>\n",
       "      <td>0.1693</td>\n",
       "      <td>0.1115</td>\n",
       "      <td>0.0579</td>\n",
       "    </tr>\n",
       "    <tr>\n",
       "      <th>25</th>\n",
       "      <td>Dataset01 escalado</td>\n",
       "      <td>Linear Regression-GridSearchCV</td>\n",
       "      <td>0.1693</td>\n",
       "      <td>0.1115</td>\n",
       "      <td>0.0579</td>\n",
       "    </tr>\n",
       "    <tr>\n",
       "      <th>5</th>\n",
       "      <td>Dataset01 normalizado</td>\n",
       "      <td>Random Forest</td>\n",
       "      <td>-0.0000</td>\n",
       "      <td>-0.0001</td>\n",
       "      <td>0.0001</td>\n",
       "    </tr>\n",
       "    <tr>\n",
       "      <th>3</th>\n",
       "      <td>Dataset01 normalizado</td>\n",
       "      <td>Ridge-GridSearchCV</td>\n",
       "      <td>-0.0001</td>\n",
       "      <td>0.0000</td>\n",
       "      <td>-0.0001</td>\n",
       "    </tr>\n",
       "    <tr>\n",
       "      <th>2</th>\n",
       "      <td>Dataset01 normalizado</td>\n",
       "      <td>Ridge</td>\n",
       "      <td>-0.0001</td>\n",
       "      <td>0.0000</td>\n",
       "      <td>-0.0001</td>\n",
       "    </tr>\n",
       "    <tr>\n",
       "      <th>4</th>\n",
       "      <td>Dataset01 normalizado</td>\n",
       "      <td>Decision Tree</td>\n",
       "      <td>-0.0001</td>\n",
       "      <td>0.0000</td>\n",
       "      <td>-0.0001</td>\n",
       "    </tr>\n",
       "    <tr>\n",
       "      <th>7</th>\n",
       "      <td>Dataset01 normalizado</td>\n",
       "      <td>Gradient Boosting Regressor</td>\n",
       "      <td>-0.0001</td>\n",
       "      <td>0.0000</td>\n",
       "      <td>-0.0001</td>\n",
       "    </tr>\n",
       "    <tr>\n",
       "      <th>8</th>\n",
       "      <td>Dataset01 normalizado</td>\n",
       "      <td>Gradient Boosting Regressor-GridSearchCV</td>\n",
       "      <td>-0.0001</td>\n",
       "      <td>0.0000</td>\n",
       "      <td>-0.0001</td>\n",
       "    </tr>\n",
       "    <tr>\n",
       "      <th>6</th>\n",
       "      <td>Dataset01 normalizado</td>\n",
       "      <td>Random Forest-GridSearchCV</td>\n",
       "      <td>-0.0003</td>\n",
       "      <td>-0.0001</td>\n",
       "      <td>-0.0002</td>\n",
       "    </tr>\n",
       "    <tr>\n",
       "      <th>12</th>\n",
       "      <td>Dataset02 normalizado</td>\n",
       "      <td>Ridge-GridSearchCV</td>\n",
       "      <td>-0.1721</td>\n",
       "      <td>0.0000</td>\n",
       "      <td>-0.1721</td>\n",
       "    </tr>\n",
       "    <tr>\n",
       "      <th>11</th>\n",
       "      <td>Dataset02 normalizado</td>\n",
       "      <td>Ridge</td>\n",
       "      <td>-0.1721</td>\n",
       "      <td>0.0000</td>\n",
       "      <td>-0.1721</td>\n",
       "    </tr>\n",
       "    <tr>\n",
       "      <th>13</th>\n",
       "      <td>Dataset02 normalizado</td>\n",
       "      <td>Decision Tree</td>\n",
       "      <td>-0.1721</td>\n",
       "      <td>0.0000</td>\n",
       "      <td>-0.1721</td>\n",
       "    </tr>\n",
       "    <tr>\n",
       "      <th>16</th>\n",
       "      <td>Dataset02 normalizado</td>\n",
       "      <td>Gradient Boosting Regressor</td>\n",
       "      <td>-0.1721</td>\n",
       "      <td>0.0000</td>\n",
       "      <td>-0.1721</td>\n",
       "    </tr>\n",
       "    <tr>\n",
       "      <th>17</th>\n",
       "      <td>Dataset02 normalizado</td>\n",
       "      <td>Gradient Boosting Regressor-GridSearchCV</td>\n",
       "      <td>-0.1721</td>\n",
       "      <td>-0.0000</td>\n",
       "      <td>-0.1721</td>\n",
       "    </tr>\n",
       "    <tr>\n",
       "      <th>14</th>\n",
       "      <td>Dataset02 normalizado</td>\n",
       "      <td>Random Forest</td>\n",
       "      <td>-0.1811</td>\n",
       "      <td>-0.0001</td>\n",
       "      <td>-0.1810</td>\n",
       "    </tr>\n",
       "    <tr>\n",
       "      <th>15</th>\n",
       "      <td>Dataset02 normalizado</td>\n",
       "      <td>Random Forest-GridSearchCV</td>\n",
       "      <td>-0.2968</td>\n",
       "      <td>-0.0134</td>\n",
       "      <td>-0.2833</td>\n",
       "    </tr>\n",
       "  </tbody>\n",
       "</table>\n",
       "</div>"
      ],
      "text/plain": [
       "                  Dataset                                 Algoritmo  \\\n",
       "9   Dataset02 normalizado                         Linear Regression   \n",
       "10  Dataset02 normalizado            Linear Regression-GridSearchCV   \n",
       "32     Dataset01 escalado  Gradient Boosting Regressor-GridSearchCV   \n",
       "31     Dataset01 escalado               Gradient Boosting Regressor   \n",
       "30     Dataset01 escalado                Random Forest-GridSearchCV   \n",
       "29     Dataset01 escalado                             Random Forest   \n",
       "23     Dataset01 escalado                             Random Forest   \n",
       "0   Dataset01 normalizado                         Linear Regression   \n",
       "1   Dataset01 normalizado            Linear Regression-GridSearchCV   \n",
       "41     Dataset02 escalado  Gradient Boosting Regressor-GridSearchCV   \n",
       "39     Dataset02 escalado                Random Forest-GridSearchCV   \n",
       "40     Dataset02 escalado               Gradient Boosting Regressor   \n",
       "38     Dataset02 escalado                             Random Forest   \n",
       "28     Dataset01 escalado                             Decision Tree   \n",
       "22     Dataset01 escalado                             Decision Tree   \n",
       "34     Dataset02 escalado            Linear Regression-GridSearchCV   \n",
       "33     Dataset02 escalado                         Linear Regression   \n",
       "36     Dataset02 escalado                        Ridge-GridSearchCV   \n",
       "35     Dataset02 escalado                                     Ridge   \n",
       "37     Dataset02 escalado                             Decision Tree   \n",
       "18     Dataset01 escalado                         Linear Regression   \n",
       "24     Dataset01 escalado                         Linear Regression   \n",
       "20     Dataset01 escalado                                     Ridge   \n",
       "26     Dataset01 escalado                                     Ridge   \n",
       "21     Dataset01 escalado                        Ridge-GridSearchCV   \n",
       "27     Dataset01 escalado                        Ridge-GridSearchCV   \n",
       "19     Dataset01 escalado            Linear Regression-GridSearchCV   \n",
       "25     Dataset01 escalado            Linear Regression-GridSearchCV   \n",
       "5   Dataset01 normalizado                             Random Forest   \n",
       "3   Dataset01 normalizado                        Ridge-GridSearchCV   \n",
       "2   Dataset01 normalizado                                     Ridge   \n",
       "4   Dataset01 normalizado                             Decision Tree   \n",
       "7   Dataset01 normalizado               Gradient Boosting Regressor   \n",
       "8   Dataset01 normalizado  Gradient Boosting Regressor-GridSearchCV   \n",
       "6   Dataset01 normalizado                Random Forest-GridSearchCV   \n",
       "12  Dataset02 normalizado                        Ridge-GridSearchCV   \n",
       "11  Dataset02 normalizado                                     Ridge   \n",
       "13  Dataset02 normalizado                             Decision Tree   \n",
       "16  Dataset02 normalizado               Gradient Boosting Regressor   \n",
       "17  Dataset02 normalizado  Gradient Boosting Regressor-GridSearchCV   \n",
       "14  Dataset02 normalizado                             Random Forest   \n",
       "15  Dataset02 normalizado                Random Forest-GridSearchCV   \n",
       "\n",
       "    Score - Teste  Score - Treino  Diferença  \n",
       "9          0.9760          0.9694     0.0065  \n",
       "10         0.9760          0.9694     0.0065  \n",
       "32         0.8154          0.8624    -0.0470  \n",
       "31         0.8108          0.8545    -0.0438  \n",
       "30         0.7948          0.9627    -0.1680  \n",
       "29         0.7857          0.9546    -0.1689  \n",
       "23         0.7676          0.9465    -0.1789  \n",
       "0          0.7461          0.7409     0.0052  \n",
       "1          0.7461          0.7409     0.0052  \n",
       "41         0.7103          0.9596    -0.2492  \n",
       "39         0.6760          0.9668    -0.2908  \n",
       "40         0.6410          0.9969    -0.3560  \n",
       "38         0.6099          0.9580    -0.3481  \n",
       "28         0.5769          1.0000    -0.4231  \n",
       "22         0.5746          1.0000    -0.4254  \n",
       "34         0.5637          0.5939    -0.0301  \n",
       "33         0.5624          0.5951    -0.0327  \n",
       "36         0.5531          0.5917    -0.0386  \n",
       "35         0.5388          0.5836    -0.0448  \n",
       "37         0.4877          1.0000    -0.5123  \n",
       "18         0.1838          0.1133     0.0705  \n",
       "24         0.1838          0.1133     0.0705  \n",
       "20         0.1812          0.1132     0.0680  \n",
       "26         0.1812          0.1132     0.0680  \n",
       "21         0.1798          0.1130     0.0669  \n",
       "27         0.1798          0.1130     0.0669  \n",
       "19         0.1693          0.1115     0.0579  \n",
       "25         0.1693          0.1115     0.0579  \n",
       "5         -0.0000         -0.0001     0.0001  \n",
       "3         -0.0001          0.0000    -0.0001  \n",
       "2         -0.0001          0.0000    -0.0001  \n",
       "4         -0.0001          0.0000    -0.0001  \n",
       "7         -0.0001          0.0000    -0.0001  \n",
       "8         -0.0001          0.0000    -0.0001  \n",
       "6         -0.0003         -0.0001    -0.0002  \n",
       "12        -0.1721          0.0000    -0.1721  \n",
       "11        -0.1721          0.0000    -0.1721  \n",
       "13        -0.1721          0.0000    -0.1721  \n",
       "16        -0.1721          0.0000    -0.1721  \n",
       "17        -0.1721         -0.0000    -0.1721  \n",
       "14        -0.1811         -0.0001    -0.1810  \n",
       "15        -0.2968         -0.0134    -0.2833  "
      ]
     },
     "execution_count": 125,
     "metadata": {},
     "output_type": "execute_result"
    }
   ],
   "source": [
    "dataset_2[['Dataset', 'Algoritmo', 'Score - Teste', 'Score - Treino', 'Diferença']].sort_values(['Score - Teste', 'Diferença'], ascending = False)"
   ]
  },
  {
   "cell_type": "markdown",
   "metadata": {},
   "source": [
    "# Conclusão<a id=\"conclusao\" />"
   ]
  },
  {
   "cell_type": "markdown",
   "metadata": {},
   "source": [
    "De todas as transformações que fizemos nos datasets e algoritmos de machine learning aplicados, podemos chegar a conclusão de que a melhor escolha, neste caso e de acordo com todo o processo que realizamos, é a normalização do dataset com as variáveis preditoras, [IdData, FimDeSemana, QuantidadePacientes], juntamente com o algoritmo LinearRegression, que obteve um score de 0.97."
   ]
  },
  {
   "cell_type": "markdown",
   "metadata": {},
   "source": [
    "# Dashboard <a class=\"anchor\" id=\"dashboard\"></a>"
   ]
  },
  {
   "cell_type": "markdown",
   "metadata": {},
   "source": [
    "Um dashboard para acompanhamento foi criado com o Power BI, com ele podemos obter as seguintes informações:\n",
    "<ul>\n",
    "    <li>Tipos de visitantes que possuem o maior tempo médio dentro dos hospitais</li>\n",
    "    <li>Operadores que mais liberam visitantes - para analisar a sobrecarga de trabalho</li>\n",
    "    <li>Quantidade de visitantes por tipo diariamente</li>\n",
    "    <li>Quais setores de internação possui mais visitantes e/ou acompanhantes</li>\n",
    "    <li>Horários de pico de entrada de visitantes</li>\n",
    "    <li>Tempo médio de visitantes</li>\n",
    "    <li>Quantidade total de visitas no período</li>\n",
    "</ul>"
   ]
  },
  {
   "cell_type": "code",
   "execution_count": 136,
   "metadata": {
    "scrolled": false
   },
   "outputs": [
    {
     "data": {
      "text/html": [
       "<img src=\"dashboardv1.png\"/>"
      ],
      "text/plain": [
       "<IPython.core.display.Image object>"
      ]
     },
     "execution_count": 136,
     "metadata": {},
     "output_type": "execute_result"
    }
   ],
   "source": [
    "from IPython.display import Image\n",
    "from IPython.core.display import HTML\n",
    "\n",
    "Image(url = 'dashboardv1.png')"
   ]
  }
 ],
 "metadata": {
  "ipub": {
   "titlepage": {
    "author": "Authors Name",
    "email": "authors@email.com",
    "institution": [
     "Institution1",
     "Institution2"
    ],
    "subtitle": "Sub-Title",
    "supervisors": [
     "First Supervisor",
     "Second Supervisor"
    ],
    "tagline": "A tagline for the report.",
    "title": "Main-Title"
   }
  },
  "kernelspec": {
   "display_name": "Python 3",
   "language": "python",
   "name": "python3"
  },
  "language_info": {
   "codemirror_mode": {
    "name": "ipython",
    "version": 3
   },
   "file_extension": ".py",
   "mimetype": "text/x-python",
   "name": "python",
   "nbconvert_exporter": "python",
   "pygments_lexer": "ipython3",
   "version": "3.7.3"
  }
 },
 "nbformat": 4,
 "nbformat_minor": 2
}
